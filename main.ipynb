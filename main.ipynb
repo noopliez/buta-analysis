{
 "cells": [
  {
   "cell_type": "markdown",
   "id": "laden-currency",
   "metadata": {},
   "source": [
    "# Analyse von Bundestagsreden<div class=\"tocSkip\">"
   ]
  },
  {
   "attachments": {
    "image.png": {
     "image/png": "[encoded data removed]"
    }
   },
   "cell_type": "markdown",
   "id": "social-raleigh",
   "metadata": {},
   "source": [
    "# Einleitung\n",
    "Dieses Notebook wurde im Auftrag der _Bundeszentrale für politsche Bildung_ (bpb) erstellt. Die _bpb_ unterstützt die Bürger:innen von Deutschland dabei, sich mit Politik zu befassen. Ihre Aufgabe ist es, Verständnis für politische Sachverhalte zu fördern, das demokratische Bewusstsein zu festigen und die Bereitschaft zur politischen Mitarbeit zu stärken.[[1]](#Links)\n",
    "\n",
    "![image.png](attachment:image.png)\n",
    "\n",
    "Die _bpb_ möchte eine neue Aufklärungskampagne mit dem leicht reißerischen Titel \"Alles derselbe Brei\" ins Leben rufen. Durch die in den letzten Jahren durchaus heftig geführten Debatten rund um das Thema \"Distanz zwischen Poliik und Bürger:innen\" will man mit dieser Kampagne zeigen, dass die deutsche Politik eben sehr vielfältig ist und nicht alle Partien gleich sind. Man will speziell die aktuelle Legislaturperiode (Nummer 19) analysieren, mit Aussicht auf weitere zukünftige Analysen sollten die Ergebnisse entsprechend aussagekräftig sein. "
   ]
  },
  {
   "cell_type": "markdown",
   "id": "outside-lebanon",
   "metadata": {},
   "source": [
    "## Problembeschreibung\n",
    "Im Zuge der neuen Kampagne \"Alles derselbe Brei\", möchte die _bpb_ im Allgemeinen wissen, welche Themen den Bundestag bestimmen, wie sich die Parteien unterscheiden und welche Netzwerke existieren. Dazu sollen öffentlich zugängliche Daten herangezogen werden, in diesem Fall sollen die Reden aus den Sitzungen des Bundestag genommen werden. Konkret sollen folgende Fragen beantwortet werden:\n",
    "* Welche Themen können aus den Reden abgeleitet werden?\n",
    "* Welche Themen werden von welchen Parteien bearbeitet?\n",
    "* Welche Netzwerke können aus den Reden abgeleitet werden?\n",
    "* Kann man anhand der Rede bestimmen, welcher Partei der/die Redner:in angehört?\n",
    "* Ist wirklich alles derselbe \"Brei\"?"
   ]
  },
  {
   "cell_type": "markdown",
   "id": "innovative-formula",
   "metadata": {},
   "source": [
    "## Vorgehensweise\n",
    "Zunächst werden die Daten aus dem Internet extrahiert. Dazu verwenden wir die protokollierten Reden aus der Open Data Sektion[[2]](#Links) des Bundestags. Wir beschränken uns auf die Protokolle der 19. Wahlperiode (die aktuelle).\n",
    "\n",
    "Nachdem die Daten extrahiert und in einer Datenbank abgespeichert wurden, müssen sie noch aufbereitet werden. Die aufbereiteten Daten werden ebenfalls in einer Datenbank abgespeichert. \n",
    "\n",
    "Mit den aufbereiteten Daten werden erste Analysen durchgeführt. Beispiele:\n",
    "* Länge der Reden\n",
    "* Häufigste Redner:innen\n",
    "* Worthäufigkeiten\n",
    "* Zeitliche Entwicklung der Reden\n",
    "\n",
    "Zuletzt werden die Reden durch Machine-Learning-Analysen genauer betrachtet. Hier werden folgende Punkte bearbeitet:\n",
    "* Vektorisierung\n",
    "* Topic Modelling\n",
    "* Netzwerk Analyse\n",
    "* Klassifikation"
   ]
  },
  {
   "cell_type": "markdown",
   "id": "floral-homework",
   "metadata": {},
   "source": [
    "# Datenextraktion und Aufbereitung\n",
    "Schauen wir uns zunächst die Datenextraktion und deren Aufbereitung an."
   ]
  },
  {
   "cell_type": "markdown",
   "id": "frequent-preference",
   "metadata": {},
   "source": [
    "## Scraping & Crawling\n",
    "Um an Daten zu kommen, müssen zunächst Daten von der Website des Bundestags extrahiert werden. Die Daten selbst liegen in XML-Form vor. Um an diese XML-Dateien zu kommen, muss man einzelne Links anwählen und weiterklicken. Um das zu realisieren, wurde das Framework _Selenium_ zuhilfe genommen. Damit lassen sich per Code Klick-Events auslösen und somit alle URLs abgreifen. \n",
    "\n",
    "Eine Schwierigkeit bestand darin, dass die Seite genau die Links zu den XML-Dateien asynchron lädt. Das bedeutet, dass das reine HTML Dokument, welches beim ersten Aufruf der Seite geladen wird, noch gar keine URLs auf die Dateien enthält. Der _Crawler_ musste dementsprechend angepasst werden. \n",
    "\n",
    "Wurden die URLs entsprechend extrahiert und die XML-Dateien heruntergeladen, konnte der _Scraper_ seine Arbeit beginnen und die XML-Dateien auslesen. Die Daten werden dann als Dataframe in eine SQLite Datenbank geschrieben, damit sie später aufgearbeitet werden können. Zum entsprechenden Notebook geht es [hier](./notebooks/01-Web-Scraping-and-Crawling.ipynb)."
   ]
  },
  {
   "cell_type": "markdown",
   "id": "afraid-literacy",
   "metadata": {},
   "source": [
    "## Textaufbereitung\n",
    "Wenn die Daten dann endlich in einer Datenbank abgespeichert sind, können sie so aufbereitet werden, dass man mit ihnen arbeiten kann. Es wird zunächst analysiert, ob die Daten in irgendeiner Art und Weise korrumpiert sind, d.h. Zeichen enthalten, die kein \"reiner\" Text sind, wie z.B. \"@\". \n",
    "\n",
    "Mit Hilfe von sogenannten Stopwörtern werden dann Wörter aus dem Datensatz gefiltert, die keinerlei Informationsgehalt haben. Dadurch sind spätere Analysen einfacher. \n",
    "\n",
    "Im nächsten Schritt werden die ursprünglichen Texte auseinadergenommen und mittels NLP (Natural Language Processing) neue Spalten im Dataframe erstellt, um später zum Beispiel mit _Lemmas_ (Basiswörtern) oder _Nouns_ (Substantive) zu arbeiten. Zum Notebook geht es [hier](./notebooks/02-Text_Aufbereitung.ipynb)."
   ]
  },
  {
   "cell_type": "markdown",
   "id": "noted-conservation",
   "metadata": {},
   "source": [
    "# Explorative Datenanalyse\n",
    "Kommen wir nun zur Datenanalyse."
   ]
  },
  {
   "cell_type": "markdown",
   "id": "tight-webcam",
   "metadata": {},
   "source": [
    "## Analyse der Redner:innen und Reden\n",
    "Zunächst werden wir uns den Redner:innen und den Reden selbst nähern. Folgendes wird bearbeitet: \n",
    "* Länge der Reden\n",
    "* Anzahl der Reden\n",
    "* Welche Redner:innen reden öfters in den gleichen Sitzungen? \n",
    "\n",
    "Zum Notebook geht es [hier](./notebooks/03-1-Explorative%20Datananalyse.ipynb)."
   ]
  },
  {
   "cell_type": "markdown",
   "id": "occupational-count",
   "metadata": {},
   "source": [
    "## Analyse der Worthäufigkeiten\n",
    "Schauen wir uns nun die Analysen auf die Worthäufigkeiten an. Wir gehen folgende Dinge an:\n",
    "* Worthäufigkeiten über den gesamten Korpus\n",
    "* Worthäufigkeiten nach Jahren\n",
    "* Worthäufigkeiten nach Parteien\n",
    "\n",
    "Zum Notebook geht es [hier](./notebooks/03-2-Explorative-Datenanalyse-Worthäufigkeiten.ipynb) (**ACHTUNG**: Dieses Notebook ist sehr groß und dauert lange, bis es geladen ist)."
   ]
  },
  {
   "cell_type": "markdown",
   "id": "remarkable-spiritual",
   "metadata": {},
   "source": [
    "## Analyse der zeitlichen Entwicklung\n",
    "Zuletzt noch die Analysen auf der Zeitebene. Hier schauen wir nach Auffälligkeiten in folgenden Belangen:\n",
    "* Anzahl der Wörter pro Woche\n",
    "* Anzahl der Reden pro Woche\n",
    "\n",
    "Zum Notebook geht es [hier](./notebooks/03-3-Explorative%20Datenanalyse-Zeitlicher%20Verlauf.ipynb)."
   ]
  },
  {
   "cell_type": "markdown",
   "id": "gross-wiring",
   "metadata": {},
   "source": [
    "# Machine Learning Verfahren\n",
    "Kommen wir nun zu den Machine Learning Verfahren. Hierbei werden statistische Modelle \"trainiert\", um Daten zu analysieren. Wir schauen uns insgesamt vier solcher Verfahren an. "
   ]
  },
  {
   "cell_type": "markdown",
   "id": "superb-metabolism",
   "metadata": {},
   "source": [
    "## Vektorisierung\n",
    "Wir starten mit der Vektorisierung, was an und für sich kein Machine Learning Verfahren ist, sondern Teil des Prozesses im Machine Learning. In diesem Fall wurde aber eine Art Suchmaschine mittels Vektorisierung gebaut, anhand derer man nach bestimmten Begriffen im Datensatz suchen kann. Ausgabe der Suchebegriffe ist ein Balkendiagramm, welches aufzeigt, bei welchen Parteien diese Wörter am meisten benutzt werden. [Hier](./notebooks/04-Vektorisierung.ipynb) geht es zum Notebook."
   ]
  },
  {
   "cell_type": "markdown",
   "id": "suspended-treatment",
   "metadata": {},
   "source": [
    "## Topic Modelling\n",
    "Als nächstes wird das Topic Modelling angegangen. Dabei werden anhand von statistischen Auffälligkeiten Themen ermittelt. Diese werden mit Hilfe von Word Clouds visualisert. Zum Notebook geht es [hier](./notebooks/05-Topic_analyse.ipynb) entlang."
   ]
  },
  {
   "cell_type": "markdown",
   "id": "interim-worst",
   "metadata": {},
   "source": [
    "## Netzwerk Analyse\n",
    "Bei der Netzwerk Analyse wird versucht, anhand der Reden Netzwerke innerhalb des Bundestages zu ermitteln. Wer spricht häufiger über wen, welche Orte werden häufig in Verbindung mit anderen Orten genannt? Solche Überlegungen werden [hier](./notebooks/07-Netzwerk%20Analyse.ipynb) angegangen."
   ]
  },
  {
   "cell_type": "markdown",
   "id": "distinct-warren",
   "metadata": {},
   "source": [
    "## Klassifikation\n",
    "Die Klassifikation ist ein Klassiker im Machine Learning. Dabei soll das Modell bestimmen, zu welcher Partei eine Rede gehört. Wie genau das geht, lesen Sie [hier](./notebooks/06-ML_Methode_Klassifikation.ipynb)."
   ]
  },
  {
   "cell_type": "markdown",
   "id": "chronic-concord",
   "metadata": {},
   "source": [
    "# Fazit und Ausblick\n",
    "Arbeiten mit Texten erweist sich oft als schwer. Sprache ist sehr vielfältig und niederschrieben fallen einfach sehr viele Aspekte weg. Wir konnten in unseren Nachforschungen allerdings einige interessante Dinge feststellen. \n",
    "\n",
    "So ist es tatsächlich möglich, anhand von Bundestagsreden bestimmte Themenschwerpunkte herauszufiltern. Sowohl beim Topic Modelling als auch bei der Suchmaschine war dies möglich. In der Datenanalyse war es nur begrenzt möglich, die Word Clouds den richtigen politschen Akteuren zuzuordnen. Dabei kam heraus, dass vor allem die Grünen sich deutlich von den anderen Parteien abheben. Dies ist vielleicht in möglicher Indikator für ihren derzeitigen Erfolg.\n",
    "\n",
    "Schaut man sich die zeitliche Entwicklung bei den Reden an, so kann man herauslesen, dass im Laufe der Wahlperiode immer mehr Leute Reden in Sitzungen hielten. Am Anfang hielten weniger Leute längere reden, zuletzt waren es mehr Leute und dafür kürzere Reden. Man könnte also sagen, dass immer mehr Leute das Wort ergreifen können, was zu mehr Diveristät führen kann.\n",
    "\n",
    "Obwohl es bei den Word Clouds durchaus \"schwammig\" zuging, konnte man bei der Analyse der Top-Redner:innen sehr gut deren Themenschwerpunkte herausarbeiten.\n",
    "\n",
    "Der Vorwurf, im Bundestag wäre sowieso alles nur derselbe \"Brei\", lässt sich jedoch sehr gut bei der Klassifikation entkräftigen. Dort konnte gezeigt werden, dass man mit einer sehr hohen Wahrscheinlichkeit (mehr als 70%) unbekannte Reden den jeweiligen Parteien zuordnen konnte. \n",
    "\n",
    "Es ist außerdem tatsächlich möglich, nur anhand der Reden Netzwerke abzubilden, die einen Sinn ergeben. Das bedeutet, dass man tatsächlich anhand von Text herausarbeiten kann, wer welche Themen bearbeitet und welche Orte häufiger mit anderen genannt werden. Das sind durchaus sehr interessante Ergebnisse, das man daran erkennt, dass im Bundestag tatsächlich sehr viele Themen behandelt werden und es bei den Parteien immer auch entsprechende Akteure gibt, die sich diesen Themen annhemen, bspw. sind Jens Spahn und Karl Lauterbach in einer engen Verbindung angezeigt worden, was mit der Realität gut harmoniert, da beide in der Gesundheitspolitik unterwegs sind. \n",
    "\n",
    "Eine Schwierigkeit bei den Reden des Bundestags ist, dass auch die Sitzungsleitung mit zu den Reden gezählt wird. Das führte dazu, dass immer wieder Wörter in den Word Clouds auftauchten, die aus der Reihe fielen und dennoch sehr groß angezeigt wurden. Das lag dann daran, dass häufig nach den Reden dieser einen Person/Partei eine andere Person/Partei kam. Dies wiederum wurde häufig als Kommentar in den Reden festgehalten, ungefährt so:\n",
    "> \"[...] und jetzt spricht Herr/Frau Müller von der Partei XYZ\"\n",
    "\n",
    "Das hat jetzt nicht wirklich einen Informationswert für die Themen, ist jedoch auch wiederum sehr interessant, da man daran erkennen kann, wer häufig nach wem spricht. \n",
    "\n",
    "Es kamen allerdigs auch problematische Dinge zum Vorschein. So kam in der Analyse der Worthäufigkeiten heraus, dass die größeren Themen Rechtsextremismus und Klima (im Gesamtkontext) so gut wie gar nicht auftreten. Themen wie die Pandemie kamen jedoch gut zum Vorschein. Wahrscheinlich liegt es daran, dass die einzelnen Parteien diese Themen sehr unterschiedlich gewichten, während es bei der Pandemie (fast) einen parlamentarischen Konsens gibt, dass diese Krise überwunden werden muss. \n",
    "\n",
    "Als Grundaussage für die Kampagne \"Alles derselbe Brei\" kann man festhalten, dass das in der Einfachheit nicht stimmt, da man mit relativ einfachen statistischen Modellen schon zwischen den verschiedenen politischen Akteuren unterscheiden kann. Da die Analyse und Rechnungen durchaus Ergebnisse produzierten, raten wir dazu, weitere Analysen in Auftrag zu geben um auch längere Zeiträume mit in die Ergebnisse mit aufnehmen zu können. Interessant wären auch Analysen von Machtwechseln in der Regierung, als Beispiel die Jahre unter Gerhard Schröder und dann unter Angela Merkel an der Spitze dieses Landes. Die Daten bieten auf jeden Fall viel Potenzial und lassen sich gut auswerten."
   ]
  },
  {
   "cell_type": "markdown",
   "id": "oriental-grounds",
   "metadata": {},
   "source": [
    "# Literatur und Links"
   ]
  },
  {
   "cell_type": "markdown",
   "id": "attended-cleaner",
   "metadata": {},
   "source": [
    "## Literatur\n",
    "* Albrecht, Ramachandran, Winkler - Blueprints for Text Analytics Using Python: Machine Learning-Based Solutions for Common Real World (NLP) Applications (2020)"
   ]
  },
  {
   "cell_type": "markdown",
   "id": "bibliographic-vintage",
   "metadata": {},
   "source": [
    "## Links\n",
    "1. [Bundeszentrale für politische Bildung](https://www.bpb.de/die-bpb/) \n",
    "2. [Open Data Sektion des Bundestags](https://www.bundestag.de/services/opendata)\n",
    "3. [Vorlesungsrepository TXA J. Albrecht](https://git.informatik.fh-nuernberg.de/albrecht-text-analytics/sose2021/00-vorlesung)\n",
    "4. [Python 3.8 Docs](https://docs.python.org/3.8/library/index.html)\n",
    "5. [Pandas API Reference](https://pandas.pydata.org/docs/reference/index.html#api)\n",
    "6. [SpaCy API Docs](https://spacy.io/api)\n",
    "7. [Plotly Docs](https://plotly.com/python/)\n",
    "8. [NetworkX Docs](https://networkx.org/)\n",
    "9. [Selenium Docs](https://www.selenium.dev/documentation/en/)\n",
    "10. [BeautifulSoup Docs](https://www.crummy.com/software/BeautifulSoup/bs4/doc/)\n",
    "11. [SciKit-Learn](https://scikit-learn.org/stable/)"
   ]
  }
 ],
 "metadata": {
  "kernelspec": {
   "display_name": "Python 3",
   "language": "python",
   "name": "python3"
  },
  "language_info": {
   "codemirror_mode": {
    "name": "ipython",
    "version": 3
   },
   "file_extension": ".py",
   "mimetype": "text/x-python",
   "name": "python",
   "nbconvert_exporter": "python",
   "pygments_lexer": "ipython3",
   "version": "3.8.8"
  },
  "toc": {
   "base_numbering": 1,
   "nav_menu": {},
   "number_sections": true,
   "sideBar": true,
   "skip_h1_title": false,
   "title_cell": "Table of Contents",
   "title_sidebar": "Contents",
   "toc_cell": false,
   "toc_position": {},
   "toc_section_display": true,
   "toc_window_display": false
  }
 },
 "nbformat": 4,
 "nbformat_minor": 5
}
