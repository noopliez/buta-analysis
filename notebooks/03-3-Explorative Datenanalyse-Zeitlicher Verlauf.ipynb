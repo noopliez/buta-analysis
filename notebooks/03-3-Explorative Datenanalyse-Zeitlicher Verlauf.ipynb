{
 "cells": [
  {
   "cell_type": "markdown",
   "metadata": {},
   "source": [
    "# Explorative Datenanalyse - Zeitlicher Verlauf<div class=\"tocSkip\">\n"
   ]
  },
  {
   "cell_type": "markdown",
   "metadata": {},
   "source": [
    "### Hilfsfunktionen und Einstellungen <div class=\"tocSkip\">\n",
    "\n",
    "**Bitte ausführen!!**"
   ]
  },
  {
   "cell_type": "code",
   "execution_count": 1,
   "metadata": {
    "ExecuteTime": {
     "end_time": "2021-06-17T14:33:15.671759Z",
     "start_time": "2021-06-17T14:33:11.124626Z"
    }
   },
   "outputs": [],
   "source": [
    "%run \"../lib/settings.py\"\n",
    "\n",
    "%reload_ext autoreload\n",
    "%autoreload 2\n",
    "%config InlineBackend.figure_format = 'retina'\n",
    "\n",
    "# to print output of all statements and not just the last\n",
    "from IPython.core.interactiveshell import InteractiveShell\n",
    "InteractiveShell.ast_node_interactivity = \"all\""
   ]
  },
  {
   "cell_type": "markdown",
   "metadata": {},
   "source": [
    "**Plotly-Backend zur Visualisierung**\n",
    "\n",
    "Für die Visualisierung verwenden wir in diesem Notebook das interaktive [Plotly-Backend](https://plotly.com/python/pandas-backend/) von Pandas."
   ]
  },
  {
   "cell_type": "code",
   "execution_count": 2,
   "metadata": {
    "ExecuteTime": {
     "end_time": "2021-06-17T14:33:16.481504Z",
     "start_time": "2021-06-17T14:33:15.673670Z"
    }
   },
   "outputs": [],
   "source": [
    "pd.options.plotting.backend = \"plotly\""
   ]
  },
  {
   "cell_type": "markdown",
   "metadata": {},
   "source": [
    "## Daten einlesen"
   ]
  },
  {
   "cell_type": "markdown",
   "metadata": {},
   "source": [
    "### Daten aus Datenbank lesen"
   ]
  },
  {
   "cell_type": "code",
   "execution_count": 3,
   "metadata": {
    "ExecuteTime": {
     "end_time": "2021-06-17T14:33:17.803129Z",
     "start_time": "2021-06-17T14:33:16.483460Z"
    }
   },
   "outputs": [],
   "source": [
    "database = '../resources/bt_reden_final.sqlite'\n",
    "\n",
    "sql = \"\"\"\n",
    "SELECT speech_id, speaker,\n",
    "  affiliation, text, session_id, session_date,\n",
    "  session_date || \" \" || session_start AS session_start,\n",
    "  session_date || \" \" || session_end AS session_end,\n",
    "  length\n",
    "FROM bt_reden_prepared ORDER BY session_id DESC;\n",
    "\"\"\"\n",
    "\n",
    "con = sqlite3.connect(database)\n",
    "df = pd.read_sql_query(sql, con)\n",
    "con.close()"
   ]
  },
  {
   "cell_type": "code",
   "execution_count": 4,
   "metadata": {
    "ExecuteTime": {
     "end_time": "2021-06-17T14:33:18.181597Z",
     "start_time": "2021-06-17T14:33:17.806090Z"
    }
   },
   "outputs": [
    {
     "data": {
      "text/html": [
       "<div>\n",
       "<style scoped>\n",
       "    .dataframe tbody tr th:only-of-type {\n",
       "        vertical-align: middle;\n",
       "    }\n",
       "\n",
       "    .dataframe tbody tr th {\n",
       "        vertical-align: top;\n",
       "    }\n",
       "\n",
       "    .dataframe thead th {\n",
       "        text-align: right;\n",
       "    }\n",
       "</style>\n",
       "<table border=\"1\" class=\"dataframe tex2jax_ignore\">\n",
       "  <thead>\n",
       "    <tr style=\"text-align: right;\">\n",
       "      <th></th>\n",
       "      <th>speech_id</th>\n",
       "      <th>speaker</th>\n",
       "      <th>affiliation</th>\n",
       "      <th>text</th>\n",
       "      <th>session_id</th>\n",
       "      <th>session_date</th>\n",
       "      <th>session_start</th>\n",
       "      <th>session_end</th>\n",
       "      <th>length</th>\n",
       "    </tr>\n",
       "  </thead>\n",
       "  <tbody>\n",
       "    <tr>\n",
       "      <th>0</th>\n",
       "      <td>ID1922800100</td>\n",
       "      <td>Thorsten Frei</td>\n",
       "      <td>CDU/CSU</td>\n",
       "      <td>Sehr geehrter Herr Präsident! Liebe Kolleginnen und Kollegen! Wir bringen heute in erster Lesung den Entwurf eines Gesetzes zur Anpassung des Verfassungsschutzrechts ein. Ich will an dieser Stelle...</td>\n",
       "      <td>228</td>\n",
       "      <td>2021-05-07</td>\n",
       "      <td>2021-05-07 09:00</td>\n",
       "      <td>2021-05-07 17:09</td>\n",
       "      <td>547</td>\n",
       "    </tr>\n",
       "    <tr>\n",
       "      <th>1</th>\n",
       "      <td>ID1922800200</td>\n",
       "      <td>Jens Maier</td>\n",
       "      <td>AfD</td>\n",
       "      <td>Sehr geehrter Herr Präsident! Meine Damen und Herren! Dieser Gesetzentwurf stellt einen weiteren Schritt dar in Richtung Totalüberwachung der Gesellschaft. Was hier als angebliche Reaktion auf die...</td>\n",
       "      <td>228</td>\n",
       "      <td>2021-05-07</td>\n",
       "      <td>2021-05-07 09:00</td>\n",
       "      <td>2021-05-07 17:09</td>\n",
       "      <td>537</td>\n",
       "    </tr>\n",
       "    <tr>\n",
       "      <th>2</th>\n",
       "      <td>ID1922800300</td>\n",
       "      <td>Uli Grötsch</td>\n",
       "      <td>SPD</td>\n",
       "      <td>Vielen Dank. – Herr Präsident! Liebe Kolleginnen und Kollegen! In gewisser Weise kann ich an die Worte meines Vorredners anknüpfen und sagen: Noch nie war das Bundesamt für Verfassungsschutz mehr ...</td>\n",
       "      <td>228</td>\n",
       "      <td>2021-05-07</td>\n",
       "      <td>2021-05-07 09:00</td>\n",
       "      <td>2021-05-07 17:09</td>\n",
       "      <td>870</td>\n",
       "    </tr>\n",
       "    <tr>\n",
       "      <th>3</th>\n",
       "      <td>ID1922800400</td>\n",
       "      <td>Benjamin Strasser</td>\n",
       "      <td>FDP</td>\n",
       "      <td>Sehr geehrter Herr Präsident! Liebe Kolleginnen und Kollegen! Liebe Genossinnen und Genossen!\\n\\nHerr Minister Seehofer, Herr Frei, ob Sie es glauben oder nicht: Jeder in diesem Haus will, dass be...</td>\n",
       "      <td>228</td>\n",
       "      <td>2021-05-07</td>\n",
       "      <td>2021-05-07 09:00</td>\n",
       "      <td>2021-05-07 17:09</td>\n",
       "      <td>280</td>\n",
       "    </tr>\n",
       "    <tr>\n",
       "      <th>4</th>\n",
       "      <td>ID1922800500</td>\n",
       "      <td>André Hahn</td>\n",
       "      <td>DIE LINKE</td>\n",
       "      <td>Herr Präsident! Meine Damen und Herren! Die deutschen Geheimdienste sollen neue, weitreichende Schnüffelbefugnisse erhalten. Dem fortwährenden Drängen aus dem Hause Seehofer zu erweiterten geheimd...</td>\n",
       "      <td>228</td>\n",
       "      <td>2021-05-07</td>\n",
       "      <td>2021-05-07 09:00</td>\n",
       "      <td>2021-05-07 17:09</td>\n",
       "      <td>396</td>\n",
       "    </tr>\n",
       "    <tr>\n",
       "      <th>...</th>\n",
       "      <td>...</td>\n",
       "      <td>...</td>\n",
       "      <td>...</td>\n",
       "      <td>...</td>\n",
       "      <td>...</td>\n",
       "      <td>...</td>\n",
       "      <td>...</td>\n",
       "      <td>...</td>\n",
       "      <td>...</td>\n",
       "    </tr>\n",
       "    <tr>\n",
       "      <th>24642</th>\n",
       "      <td>ID19101500</td>\n",
       "      <td>Thomas Oppermann</td>\n",
       "      <td>SPD</td>\n",
       "      <td>Jawohl, Herr Präsident, ich nehme die Wahl an.\\n\\nIch beglückwünsche Sie und freue mich auf gute Zusammenarbeit.\\n\\nHerr Kollege Kubicki, nehmen Sie die Wahl an?</td>\n",
       "      <td>1</td>\n",
       "      <td>2017-10-24</td>\n",
       "      <td>2017-10-24 11:00</td>\n",
       "      <td>2017-10-24 17:03</td>\n",
       "      <td>25</td>\n",
       "    </tr>\n",
       "    <tr>\n",
       "      <th>24643</th>\n",
       "      <td>ID19101600</td>\n",
       "      <td>Wolfgang Kubicki</td>\n",
       "      <td>FDP</td>\n",
       "      <td>Herr Präsident, ich nehme die Wahl an.\\n\\nDann beglückwünsche ich auch Sie im Namen des Hauses und freue mich auf gute Zusammenarbeit.\\n\\nFrau Kollegin Pau, nehmen Sie die Wahl an?</td>\n",
       "      <td>1</td>\n",
       "      <td>2017-10-24</td>\n",
       "      <td>2017-10-24 11:00</td>\n",
       "      <td>2017-10-24 17:03</td>\n",
       "      <td>30</td>\n",
       "    </tr>\n",
       "    <tr>\n",
       "      <th>24644</th>\n",
       "      <td>ID19101700</td>\n",
       "      <td>Petra Pau</td>\n",
       "      <td>DIE LINKE</td>\n",
       "      <td>Herr Präsident, ich nehme die Wahl an und freue mich auf die Zusammenarbeit.\\n\\nHerzlichen Glückwunsch, Frau Pau. Auch ich freue mich auf die Zusammenarbeit.\\n\\nJetzt frage ich die Frau Kollegin R...</td>\n",
       "      <td>1</td>\n",
       "      <td>2017-10-24</td>\n",
       "      <td>2017-10-24 11:00</td>\n",
       "      <td>2017-10-24 17:03</td>\n",
       "      <td>36</td>\n",
       "    </tr>\n",
       "    <tr>\n",
       "      <th>24645</th>\n",
       "      <td>ID19101800</td>\n",
       "      <td>Claudia Roth</td>\n",
       "      <td>BÜNDNIS 90/DIE GRÜNEN</td>\n",
       "      <td>Ja, ich nehme die Wahl mit großer Freude an und freue mich auch auf die Zusammenarbeit.\\n\\nDie Freude ist unübersehbar. Ich beglückwünsche Sie im Namen des ganzen Hauses, Frau Kollegin Roth.\\n\\nIc...</td>\n",
       "      <td>1</td>\n",
       "      <td>2017-10-24</td>\n",
       "      <td>2017-10-24 11:00</td>\n",
       "      <td>2017-10-24 17:03</td>\n",
       "      <td>492</td>\n",
       "    </tr>\n",
       "    <tr>\n",
       "      <th>24646</th>\n",
       "      <td>ID19101900</td>\n",
       "      <td>Dr. Wolfgang Schäuble</td>\n",
       "      <td>Präsident</td>\n",
       "      <td>Die unterbrochene Sitzung ist wieder eröffnet.\\n\\nLiebe Kolleginnen und Kollegen, ich darf Sie bitten, wieder Platz zu nehmen. Mir liegt das Ergebnis des dritten Wahlgangs vor. Sobald Sie Platz ge...</td>\n",
       "      <td>1</td>\n",
       "      <td>2017-10-24</td>\n",
       "      <td>2017-10-24 11:00</td>\n",
       "      <td>2017-10-24 17:03</td>\n",
       "      <td>257</td>\n",
       "    </tr>\n",
       "  </tbody>\n",
       "</table>\n",
       "<p>24647 rows × 9 columns</p>\n",
       "</div>"
      ],
      "text/plain": [
       "          speech_id                speaker            affiliation  \\\n",
       "0      ID1922800100          Thorsten Frei                CDU/CSU   \n",
       "1      ID1922800200             Jens Maier                    AfD   \n",
       "2      ID1922800300            Uli Grötsch                    SPD   \n",
       "3      ID1922800400      Benjamin Strasser                    FDP   \n",
       "4      ID1922800500             André Hahn              DIE LINKE   \n",
       "...             ...                    ...                    ...   \n",
       "24642    ID19101500       Thomas Oppermann                    SPD   \n",
       "24643    ID19101600       Wolfgang Kubicki                    FDP   \n",
       "24644    ID19101700              Petra Pau              DIE LINKE   \n",
       "24645    ID19101800           Claudia Roth  BÜNDNIS 90/DIE GRÜNEN   \n",
       "24646    ID19101900  Dr. Wolfgang Schäuble              Präsident   \n",
       "\n",
       "                                                                                                                                                                                                          text  \\\n",
       "0      Sehr geehrter Herr Präsident! Liebe Kolleginnen und Kollegen! Wir bringen heute in erster Lesung den Entwurf eines Gesetzes zur Anpassung des Verfassungsschutzrechts ein. Ich will an dieser Stelle...   \n",
       "1      Sehr geehrter Herr Präsident! Meine Damen und Herren! Dieser Gesetzentwurf stellt einen weiteren Schritt dar in Richtung Totalüberwachung der Gesellschaft. Was hier als angebliche Reaktion auf die...   \n",
       "2      Vielen Dank. – Herr Präsident! Liebe Kolleginnen und Kollegen! In gewisser Weise kann ich an die Worte meines Vorredners anknüpfen und sagen: Noch nie war das Bundesamt für Verfassungsschutz mehr ...   \n",
       "3      Sehr geehrter Herr Präsident! Liebe Kolleginnen und Kollegen! Liebe Genossinnen und Genossen!\\n\\nHerr Minister Seehofer, Herr Frei, ob Sie es glauben oder nicht: Jeder in diesem Haus will, dass be...   \n",
       "4      Herr Präsident! Meine Damen und Herren! Die deutschen Geheimdienste sollen neue, weitreichende Schnüffelbefugnisse erhalten. Dem fortwährenden Drängen aus dem Hause Seehofer zu erweiterten geheimd...   \n",
       "...                                                                                                                                                                                                        ...   \n",
       "24642                                        Jawohl, Herr Präsident, ich nehme die Wahl an.\\n\\nIch beglückwünsche Sie und freue mich auf gute Zusammenarbeit.\\n\\nHerr Kollege Kubicki, nehmen Sie die Wahl an?   \n",
       "24643                     Herr Präsident, ich nehme die Wahl an.\\n\\nDann beglückwünsche ich auch Sie im Namen des Hauses und freue mich auf gute Zusammenarbeit.\\n\\nFrau Kollegin Pau, nehmen Sie die Wahl an?   \n",
       "24644  Herr Präsident, ich nehme die Wahl an und freue mich auf die Zusammenarbeit.\\n\\nHerzlichen Glückwunsch, Frau Pau. Auch ich freue mich auf die Zusammenarbeit.\\n\\nJetzt frage ich die Frau Kollegin R...   \n",
       "24645  Ja, ich nehme die Wahl mit großer Freude an und freue mich auch auf die Zusammenarbeit.\\n\\nDie Freude ist unübersehbar. Ich beglückwünsche Sie im Namen des ganzen Hauses, Frau Kollegin Roth.\\n\\nIc...   \n",
       "24646  Die unterbrochene Sitzung ist wieder eröffnet.\\n\\nLiebe Kolleginnen und Kollegen, ich darf Sie bitten, wieder Platz zu nehmen. Mir liegt das Ergebnis des dritten Wahlgangs vor. Sobald Sie Platz ge...   \n",
       "\n",
       "       session_id session_date     session_start       session_end  length  \n",
       "0             228   2021-05-07  2021-05-07 09:00  2021-05-07 17:09     547  \n",
       "1             228   2021-05-07  2021-05-07 09:00  2021-05-07 17:09     537  \n",
       "2             228   2021-05-07  2021-05-07 09:00  2021-05-07 17:09     870  \n",
       "3             228   2021-05-07  2021-05-07 09:00  2021-05-07 17:09     280  \n",
       "4             228   2021-05-07  2021-05-07 09:00  2021-05-07 17:09     396  \n",
       "...           ...          ...               ...               ...     ...  \n",
       "24642           1   2017-10-24  2017-10-24 11:00  2017-10-24 17:03      25  \n",
       "24643           1   2017-10-24  2017-10-24 11:00  2017-10-24 17:03      30  \n",
       "24644           1   2017-10-24  2017-10-24 11:00  2017-10-24 17:03      36  \n",
       "24645           1   2017-10-24  2017-10-24 11:00  2017-10-24 17:03     492  \n",
       "24646           1   2017-10-24  2017-10-24 11:00  2017-10-24 17:03     257  \n",
       "\n",
       "[24647 rows x 9 columns]"
      ]
     },
     "execution_count": 4,
     "metadata": {},
     "output_type": "execute_result"
    }
   ],
   "source": [
    "df"
   ]
  },
  {
   "cell_type": "markdown",
   "metadata": {},
   "source": [
    "Das session_date wird zu einem datetime64 Objekt umgewandeln"
   ]
  },
  {
   "cell_type": "code",
   "execution_count": 5,
   "metadata": {
    "ExecuteTime": {
     "end_time": "2021-06-17T14:33:19.791378Z",
     "start_time": "2021-06-17T14:33:19.632797Z"
    }
   },
   "outputs": [],
   "source": [
    "df['session_date'] = pd.to_datetime(df['session_date'])\n",
    "                                    #, format=\"%d.%m.%Y\")"
   ]
  },
  {
   "cell_type": "code",
   "execution_count": 6,
   "metadata": {
    "ExecuteTime": {
     "end_time": "2021-06-17T14:33:20.395670Z",
     "start_time": "2021-06-17T14:33:20.150307Z"
    },
    "scrolled": true
   },
   "outputs": [
    {
     "data": {
      "text/html": [
       "<div>\n",
       "<style scoped>\n",
       "    .dataframe tbody tr th:only-of-type {\n",
       "        vertical-align: middle;\n",
       "    }\n",
       "\n",
       "    .dataframe tbody tr th {\n",
       "        vertical-align: top;\n",
       "    }\n",
       "\n",
       "    .dataframe thead th {\n",
       "        text-align: right;\n",
       "    }\n",
       "</style>\n",
       "<table border=\"1\" class=\"dataframe tex2jax_ignore\">\n",
       "  <thead>\n",
       "    <tr style=\"text-align: right;\">\n",
       "      <th></th>\n",
       "      <th>speech_id</th>\n",
       "      <th>speaker</th>\n",
       "      <th>affiliation</th>\n",
       "      <th>text</th>\n",
       "      <th>session_id</th>\n",
       "      <th>session_date</th>\n",
       "      <th>session_start</th>\n",
       "      <th>session_end</th>\n",
       "      <th>length</th>\n",
       "    </tr>\n",
       "  </thead>\n",
       "  <tbody>\n",
       "    <tr>\n",
       "      <th>0</th>\n",
       "      <td>ID1922800100</td>\n",
       "      <td>Thorsten Frei</td>\n",
       "      <td>CDU/CSU</td>\n",
       "      <td>Sehr geehrter He...</td>\n",
       "      <td>228</td>\n",
       "      <td>2021-05-07</td>\n",
       "      <td>2021-05-07 09:00</td>\n",
       "      <td>2021-05-07 17:09</td>\n",
       "      <td>547</td>\n",
       "    </tr>\n",
       "    <tr>\n",
       "      <th>1</th>\n",
       "      <td>ID1922800200</td>\n",
       "      <td>Jens Maier</td>\n",
       "      <td>AfD</td>\n",
       "      <td>Sehr geehrter He...</td>\n",
       "      <td>228</td>\n",
       "      <td>2021-05-07</td>\n",
       "      <td>2021-05-07 09:00</td>\n",
       "      <td>2021-05-07 17:09</td>\n",
       "      <td>537</td>\n",
       "    </tr>\n",
       "    <tr>\n",
       "      <th>2</th>\n",
       "      <td>ID1922800300</td>\n",
       "      <td>Uli Grötsch</td>\n",
       "      <td>SPD</td>\n",
       "      <td>Vielen Dank. – H...</td>\n",
       "      <td>228</td>\n",
       "      <td>2021-05-07</td>\n",
       "      <td>2021-05-07 09:00</td>\n",
       "      <td>2021-05-07 17:09</td>\n",
       "      <td>870</td>\n",
       "    </tr>\n",
       "    <tr>\n",
       "      <th>3</th>\n",
       "      <td>ID1922800400</td>\n",
       "      <td>Benjamin Strasser</td>\n",
       "      <td>FDP</td>\n",
       "      <td>Sehr geehrter He...</td>\n",
       "      <td>228</td>\n",
       "      <td>2021-05-07</td>\n",
       "      <td>2021-05-07 09:00</td>\n",
       "      <td>2021-05-07 17:09</td>\n",
       "      <td>280</td>\n",
       "    </tr>\n",
       "    <tr>\n",
       "      <th>4</th>\n",
       "      <td>ID1922800500</td>\n",
       "      <td>André Hahn</td>\n",
       "      <td>DIE LINKE</td>\n",
       "      <td>Herr Präsident! ...</td>\n",
       "      <td>228</td>\n",
       "      <td>2021-05-07</td>\n",
       "      <td>2021-05-07 09:00</td>\n",
       "      <td>2021-05-07 17:09</td>\n",
       "      <td>396</td>\n",
       "    </tr>\n",
       "    <tr>\n",
       "      <th>...</th>\n",
       "      <td>...</td>\n",
       "      <td>...</td>\n",
       "      <td>...</td>\n",
       "      <td>...</td>\n",
       "      <td>...</td>\n",
       "      <td>...</td>\n",
       "      <td>...</td>\n",
       "      <td>...</td>\n",
       "      <td>...</td>\n",
       "    </tr>\n",
       "    <tr>\n",
       "      <th>795</th>\n",
       "      <td>ID1922304800</td>\n",
       "      <td>Volkmar Klein</td>\n",
       "      <td>CDU/CSU</td>\n",
       "      <td>Tatsächlich eine...</td>\n",
       "      <td>223</td>\n",
       "      <td>2021-04-21</td>\n",
       "      <td>2021-04-21 11:00</td>\n",
       "      <td>2021-04-21 21:27</td>\n",
       "      <td>36</td>\n",
       "    </tr>\n",
       "    <tr>\n",
       "      <th>796</th>\n",
       "      <td>ID1922304900</td>\n",
       "      <td>Gerd Müller</td>\n",
       "      <td>Bundesminister BMZ</td>\n",
       "      <td>Wir haben zusamm...</td>\n",
       "      <td>223</td>\n",
       "      <td>2021-04-21</td>\n",
       "      <td>2021-04-21 11:00</td>\n",
       "      <td>2021-04-21 21:27</td>\n",
       "      <td>91</td>\n",
       "    </tr>\n",
       "    <tr>\n",
       "      <th>797</th>\n",
       "      <td>ID1922305000</td>\n",
       "      <td>Olaf in der Beek</td>\n",
       "      <td>FDP</td>\n",
       "      <td>Frau Präsidentin...</td>\n",
       "      <td>223</td>\n",
       "      <td>2021-04-21</td>\n",
       "      <td>2021-04-21 11:00</td>\n",
       "      <td>2021-04-21 21:27</td>\n",
       "      <td>149</td>\n",
       "    </tr>\n",
       "    <tr>\n",
       "      <th>798</th>\n",
       "      <td>ID1922305100</td>\n",
       "      <td>Gerd Müller</td>\n",
       "      <td>Bundesminister BMZ</td>\n",
       "      <td>Nein, das wäre n...</td>\n",
       "      <td>223</td>\n",
       "      <td>2021-04-21</td>\n",
       "      <td>2021-04-21 11:00</td>\n",
       "      <td>2021-04-21 21:27</td>\n",
       "      <td>214</td>\n",
       "    </tr>\n",
       "    <tr>\n",
       "      <th>799</th>\n",
       "      <td>ID1922305200</td>\n",
       "      <td>Helin Evrim Sommer</td>\n",
       "      <td>DIE LINKE</td>\n",
       "      <td>Herr Entwicklung...</td>\n",
       "      <td>223</td>\n",
       "      <td>2021-04-21</td>\n",
       "      <td>2021-04-21 11:00</td>\n",
       "      <td>2021-04-21 21:27</td>\n",
       "      <td>52</td>\n",
       "    </tr>\n",
       "  </tbody>\n",
       "</table>\n",
       "<p>800 rows × 9 columns</p>\n",
       "</div>"
      ],
      "text/plain": [
       "        speech_id             speaker         affiliation  \\\n",
       "0    ID1922800100       Thorsten Frei             CDU/CSU   \n",
       "1    ID1922800200          Jens Maier                 AfD   \n",
       "2    ID1922800300         Uli Grötsch                 SPD   \n",
       "3    ID1922800400   Benjamin Strasser                 FDP   \n",
       "4    ID1922800500          André Hahn           DIE LINKE   \n",
       "..            ...                 ...                 ...   \n",
       "795  ID1922304800       Volkmar Klein             CDU/CSU   \n",
       "796  ID1922304900         Gerd Müller  Bundesminister BMZ   \n",
       "797  ID1922305000    Olaf in der Beek                 FDP   \n",
       "798  ID1922305100         Gerd Müller  Bundesminister BMZ   \n",
       "799  ID1922305200  Helin Evrim Sommer           DIE LINKE   \n",
       "\n",
       "                    text  session_id session_date     session_start  \\\n",
       "0    Sehr geehrter He...         228   2021-05-07  2021-05-07 09:00   \n",
       "1    Sehr geehrter He...         228   2021-05-07  2021-05-07 09:00   \n",
       "2    Vielen Dank. – H...         228   2021-05-07  2021-05-07 09:00   \n",
       "3    Sehr geehrter He...         228   2021-05-07  2021-05-07 09:00   \n",
       "4    Herr Präsident! ...         228   2021-05-07  2021-05-07 09:00   \n",
       "..                   ...         ...          ...               ...   \n",
       "795  Tatsächlich eine...         223   2021-04-21  2021-04-21 11:00   \n",
       "796  Wir haben zusamm...         223   2021-04-21  2021-04-21 11:00   \n",
       "797  Frau Präsidentin...         223   2021-04-21  2021-04-21 11:00   \n",
       "798  Nein, das wäre n...         223   2021-04-21  2021-04-21 11:00   \n",
       "799  Herr Entwicklung...         223   2021-04-21  2021-04-21 11:00   \n",
       "\n",
       "          session_end  length  \n",
       "0    2021-05-07 17:09     547  \n",
       "1    2021-05-07 17:09     537  \n",
       "2    2021-05-07 17:09     870  \n",
       "3    2021-05-07 17:09     280  \n",
       "4    2021-05-07 17:09     396  \n",
       "..                ...     ...  \n",
       "795  2021-04-21 21:27      36  \n",
       "796  2021-04-21 21:27      91  \n",
       "797  2021-04-21 21:27     149  \n",
       "798  2021-04-21 21:27     214  \n",
       "799  2021-04-21 21:27      52  \n",
       "\n",
       "[800 rows x 9 columns]"
      ]
     },
     "execution_count": 6,
     "metadata": {},
     "output_type": "execute_result"
    }
   ],
   "source": [
    "# set display column width to -1 to show full text\n",
    "pd.set_option('max_colwidth', 20)\n",
    "\n",
    "df.head(800)\n",
    "\n",
    "# reset display column width to 30\n",
    "pd.reset_option('max_colwidth')"
   ]
  },
  {
   "cell_type": "markdown",
   "metadata": {
    "ExecuteTime": {
     "end_time": "2020-04-09T21:44:59.899766Z",
     "start_time": "2020-04-09T21:44:59.644554Z"
    }
   },
   "source": [
    "Datentypen der jeweiligen Spalten prüfen:"
   ]
  },
  {
   "cell_type": "code",
   "execution_count": 7,
   "metadata": {
    "ExecuteTime": {
     "end_time": "2021-06-17T14:33:21.381704Z",
     "start_time": "2021-06-17T14:33:21.241082Z"
    },
    "scrolled": true
   },
   "outputs": [
    {
     "data": {
      "text/plain": [
       "speech_id                object\n",
       "speaker                  object\n",
       "affiliation              object\n",
       "text                     object\n",
       "session_id                int64\n",
       "session_date     datetime64[ns]\n",
       "session_start            object\n",
       "session_end              object\n",
       "length                    int64\n",
       "dtype: object"
      ]
     },
     "execution_count": 7,
     "metadata": {},
     "output_type": "execute_result"
    }
   ],
   "source": [
    "df.dtypes"
   ]
  },
  {
   "cell_type": "markdown",
   "metadata": {
    "slideshow": {
     "slide_type": "slide"
    }
   },
   "source": [
    "### Datums- und Zeitwerte"
   ]
  },
  {
   "cell_type": "markdown",
   "metadata": {},
   "source": [
    "Für die einzelnen Visualisierungen arbeiten wir die unterschiedlichen Zweitwerte heraus."
   ]
  },
  {
   "cell_type": "code",
   "execution_count": 8,
   "metadata": {
    "ExecuteTime": {
     "end_time": "2021-06-17T14:33:25.762520Z",
     "start_time": "2021-06-17T14:33:24.979596Z"
    },
    "scrolled": true,
    "slideshow": {
     "slide_type": "-"
    }
   },
   "outputs": [
    {
     "data": {
      "text/html": [
       "<div>\n",
       "<style scoped>\n",
       "    .dataframe tbody tr th:only-of-type {\n",
       "        vertical-align: middle;\n",
       "    }\n",
       "\n",
       "    .dataframe tbody tr th {\n",
       "        vertical-align: top;\n",
       "    }\n",
       "\n",
       "    .dataframe thead th {\n",
       "        text-align: right;\n",
       "    }\n",
       "</style>\n",
       "<table border=\"1\" class=\"dataframe tex2jax_ignore\">\n",
       "  <thead>\n",
       "    <tr style=\"text-align: right;\">\n",
       "      <th></th>\n",
       "      <th>session_date</th>\n",
       "      <th>day</th>\n",
       "      <th>week</th>\n",
       "      <th>month</th>\n",
       "      <th>year</th>\n",
       "      <th>session_id</th>\n",
       "    </tr>\n",
       "  </thead>\n",
       "  <tbody>\n",
       "    <tr>\n",
       "      <th>9452</th>\n",
       "      <td>2020-03-12</td>\n",
       "      <td>2020-03-12</td>\n",
       "      <td>2020/Week 10</td>\n",
       "      <td>2020/ 03</td>\n",
       "      <td>2020</td>\n",
       "      <td>152</td>\n",
       "    </tr>\n",
       "    <tr>\n",
       "      <th>2151</th>\n",
       "      <td>2021-03-03</td>\n",
       "      <td>2021-03-03</td>\n",
       "      <td>2021/Week 09</td>\n",
       "      <td>2021/ 03</td>\n",
       "      <td>2021</td>\n",
       "      <td>214</td>\n",
       "    </tr>\n",
       "    <tr>\n",
       "      <th>10208</th>\n",
       "      <td>2020-02-12</td>\n",
       "      <td>2020-02-12</td>\n",
       "      <td>2020/Week 06</td>\n",
       "      <td>2020/ 02</td>\n",
       "      <td>2020</td>\n",
       "      <td>145</td>\n",
       "    </tr>\n",
       "    <tr>\n",
       "      <th>17122</th>\n",
       "      <td>2019-02-21</td>\n",
       "      <td>2019-02-21</td>\n",
       "      <td>2019/Week 07</td>\n",
       "      <td>2019/ 02</td>\n",
       "      <td>2019</td>\n",
       "      <td>83</td>\n",
       "    </tr>\n",
       "    <tr>\n",
       "      <th>13227</th>\n",
       "      <td>2019-10-18</td>\n",
       "      <td>2019-10-18</td>\n",
       "      <td>2019/Week 41</td>\n",
       "      <td>2019/ 10</td>\n",
       "      <td>2019</td>\n",
       "      <td>119</td>\n",
       "    </tr>\n",
       "    <tr>\n",
       "      <th>23009</th>\n",
       "      <td>2018-03-22</td>\n",
       "      <td>2018-03-22</td>\n",
       "      <td>2018/Week 12</td>\n",
       "      <td>2018/ 03</td>\n",
       "      <td>2018</td>\n",
       "      <td>23</td>\n",
       "    </tr>\n",
       "    <tr>\n",
       "      <th>4157</th>\n",
       "      <td>2020-11-27</td>\n",
       "      <td>2020-11-27</td>\n",
       "      <td>2020/Week 47</td>\n",
       "      <td>2020/ 11</td>\n",
       "      <td>2020</td>\n",
       "      <td>196</td>\n",
       "    </tr>\n",
       "    <tr>\n",
       "      <th>4509</th>\n",
       "      <td>2020-11-20</td>\n",
       "      <td>2020-11-20</td>\n",
       "      <td>2020/Week 46</td>\n",
       "      <td>2020/ 11</td>\n",
       "      <td>2020</td>\n",
       "      <td>193</td>\n",
       "    </tr>\n",
       "    <tr>\n",
       "      <th>9984</th>\n",
       "      <td>2020-02-14</td>\n",
       "      <td>2020-02-14</td>\n",
       "      <td>2020/Week 06</td>\n",
       "      <td>2020/ 02</td>\n",
       "      <td>2020</td>\n",
       "      <td>147</td>\n",
       "    </tr>\n",
       "    <tr>\n",
       "      <th>23580</th>\n",
       "      <td>2018-02-23</td>\n",
       "      <td>2018-02-23</td>\n",
       "      <td>2018/Week 08</td>\n",
       "      <td>2018/ 02</td>\n",
       "      <td>2018</td>\n",
       "      <td>15</td>\n",
       "    </tr>\n",
       "  </tbody>\n",
       "</table>\n",
       "</div>"
      ],
      "text/plain": [
       "      session_date         day          week     month  year  session_id\n",
       "9452    2020-03-12  2020-03-12  2020/Week 10  2020/ 03  2020         152\n",
       "2151    2021-03-03  2021-03-03  2021/Week 09  2021/ 03  2021         214\n",
       "10208   2020-02-12  2020-02-12  2020/Week 06  2020/ 02  2020         145\n",
       "17122   2019-02-21  2019-02-21  2019/Week 07  2019/ 02  2019          83\n",
       "13227   2019-10-18  2019-10-18  2019/Week 41  2019/ 10  2019         119\n",
       "23009   2018-03-22  2018-03-22  2018/Week 12  2018/ 03  2018          23\n",
       "4157    2020-11-27  2020-11-27  2020/Week 47  2020/ 11  2020         196\n",
       "4509    2020-11-20  2020-11-20  2020/Week 46  2020/ 11  2020         193\n",
       "9984    2020-02-14  2020-02-14  2020/Week 06  2020/ 02  2020         147\n",
       "23580   2018-02-23  2018-02-23  2018/Week 08  2018/ 02  2018          15"
      ]
     },
     "execution_count": 8,
     "metadata": {},
     "output_type": "execute_result"
    }
   ],
   "source": [
    "df['day'] = df['session_date'].dt.date\n",
    "df['week'] = df['session_date'].dt.strftime(\"%Y/Week %W\")\n",
    "df['month'] = df['session_date'].dt.strftime(\"%Y/ %m\")\n",
    "df['year'] = df['session_date'].dt.year\n",
    "\n",
    "df[['session_date', 'day', 'week', 'month', 'year', 'session_id']].sample(10)"
   ]
  },
  {
   "cell_type": "markdown",
   "metadata": {
    "slideshow": {
     "slide_type": "slide"
    }
   },
   "source": [
    "## Visualisierung zeitlicher Entwicklungen\n"
   ]
  },
  {
   "cell_type": "code",
   "execution_count": 25,
   "metadata": {
    "ExecuteTime": {
     "end_time": "2021-06-17T15:30:04.685213Z",
     "start_time": "2021-06-17T15:30:04.520935Z"
    }
   },
   "outputs": [],
   "source": [
    "import plotly.express as px"
   ]
  },
  {
   "cell_type": "markdown",
   "metadata": {},
   "source": [
    "### Reden pro Woche (LP19):"
   ]
  },
  {
   "cell_type": "code",
   "execution_count": 11,
   "metadata": {
    "ExecuteTime": {
     "end_time": "2021-06-17T14:39:09.059002Z",
     "start_time": "2021-06-17T14:39:08.850754Z"
    },
    "scrolled": true
   },
   "outputs": [
    {
     "data": {
      "text/html": [
       "<div>\n",
       "<style scoped>\n",
       "    .dataframe tbody tr th:only-of-type {\n",
       "        vertical-align: middle;\n",
       "    }\n",
       "\n",
       "    .dataframe tbody tr th {\n",
       "        vertical-align: top;\n",
       "    }\n",
       "\n",
       "    .dataframe thead th {\n",
       "        text-align: right;\n",
       "    }\n",
       "</style>\n",
       "<table border=\"1\" class=\"dataframe tex2jax_ignore\">\n",
       "  <thead>\n",
       "    <tr style=\"text-align: right;\">\n",
       "      <th></th>\n",
       "      <th>Reden pro Woche</th>\n",
       "    </tr>\n",
       "    <tr>\n",
       "      <th>week</th>\n",
       "      <th></th>\n",
       "    </tr>\n",
       "  </thead>\n",
       "  <tbody>\n",
       "    <tr>\n",
       "      <th>2017/Week 43</th>\n",
       "      <td>19</td>\n",
       "    </tr>\n",
       "    <tr>\n",
       "      <th>2017/Week 47</th>\n",
       "      <td>153</td>\n",
       "    </tr>\n",
       "    <tr>\n",
       "      <th>2017/Week 50</th>\n",
       "      <td>224</td>\n",
       "    </tr>\n",
       "    <tr>\n",
       "      <th>2018/Week 03</th>\n",
       "      <td>188</td>\n",
       "    </tr>\n",
       "    <tr>\n",
       "      <th>2018/Week 04</th>\n",
       "      <td>16</td>\n",
       "    </tr>\n",
       "    <tr>\n",
       "      <th>...</th>\n",
       "      <td>...</td>\n",
       "    </tr>\n",
       "    <tr>\n",
       "      <th>2021/Week 09</th>\n",
       "      <td>414</td>\n",
       "    </tr>\n",
       "    <tr>\n",
       "      <th>2021/Week 12</th>\n",
       "      <td>458</td>\n",
       "    </tr>\n",
       "    <tr>\n",
       "      <th>2021/Week 15</th>\n",
       "      <td>370</td>\n",
       "    </tr>\n",
       "    <tr>\n",
       "      <th>2021/Week 16</th>\n",
       "      <td>530</td>\n",
       "    </tr>\n",
       "    <tr>\n",
       "      <th>2021/Week 18</th>\n",
       "      <td>420</td>\n",
       "    </tr>\n",
       "  </tbody>\n",
       "</table>\n",
       "<p>78 rows × 1 columns</p>\n",
       "</div>"
      ],
      "text/plain": [
       "              Reden pro Woche\n",
       "week                         \n",
       "2017/Week 43               19\n",
       "2017/Week 47              153\n",
       "2017/Week 50              224\n",
       "2018/Week 03              188\n",
       "2018/Week 04               16\n",
       "...                       ...\n",
       "2021/Week 09              414\n",
       "2021/Week 12              458\n",
       "2021/Week 15              370\n",
       "2021/Week 16              530\n",
       "2021/Week 18              420\n",
       "\n",
       "[78 rows x 1 columns]"
      ]
     },
     "execution_count": 11,
     "metadata": {},
     "output_type": "execute_result"
    }
   ],
   "source": [
    "timeseries_speeches_df = df.query('year >= 2017') \\\n",
    "                  .groupby('week').agg({'text': 'count'}) \\\n",
    "                  .rename(columns={'text': 'Reden pro Woche'})\n",
    "timeseries_speeches_df"
   ]
  },
  {
   "cell_type": "code",
   "execution_count": 12,
   "metadata": {
    "ExecuteTime": {
     "end_time": "2021-06-17T14:39:10.803044Z",
     "start_time": "2021-06-17T14:39:10.489897Z"
    },
    "scrolled": false
   },
   "outputs": [
    {
     "data": {
      "application/vnd.plotly.v1+json": {
       "config": {
        "plotlyServerURL": "https://plot.ly"
       },
       "data": [
        {
         "hovertemplate": "variable=Reden pro Woche<br>week=%{x}<br>value=%{y}<extra></extra>",
         "legendgroup": "Reden pro Woche",
         "line": {
          "color": "#636efa",
          "dash": "solid"
         },
         "mode": "lines",
         "name": "Reden pro Woche",
         "orientation": "v",
         "showlegend": true,
         "type": "scatter",
         "x": [
          "2017/Week 43",
          "2017/Week 47",
          "2017/Week 50",
          "2018/Week 03",
          "2018/Week 04",
          "2018/Week 05",
          "2018/Week 08",
          "2018/Week 09",
          "2018/Week 11",
          "2018/Week 12",
          "2018/Week 16",
          "2018/Week 17",
          "2018/Week 20",
          "2018/Week 23",
          "2018/Week 24",
          "2018/Week 26",
          "2018/Week 27",
          "2018/Week 37",
          "2018/Week 39",
          "2018/Week 41",
          "2018/Week 42",
          "2018/Week 45",
          "2018/Week 47",
          "2018/Week 48",
          "2018/Week 50",
          "2019/Week 02",
          "2019/Week 04",
          "2019/Week 06",
          "2019/Week 07",
          "2019/Week 10",
          "2019/Week 11",
          "2019/Week 13",
          "2019/Week 14",
          "2019/Week 18",
          "2019/Week 19",
          "2019/Week 22",
          "2019/Week 25",
          "2019/Week 29",
          "2019/Week 36",
          "2019/Week 38",
          "2019/Week 41",
          "2019/Week 42",
          "2019/Week 44",
          "2019/Week 45",
          "2019/Week 47",
          "2019/Week 49",
          "2019/Week 50",
          "2020/Week 02",
          "2020/Week 04",
          "2020/Week 06",
          "2020/Week 09",
          "2020/Week 10",
          "2020/Week 12",
          "2020/Week 16",
          "2020/Week 18",
          "2020/Week 19",
          "2020/Week 21",
          "2020/Week 24",
          "2020/Week 26",
          "2020/Week 36",
          "2020/Week 37",
          "2020/Week 39",
          "2020/Week 40",
          "2020/Week 43",
          "2020/Week 44",
          "2020/Week 46",
          "2020/Week 47",
          "2020/Week 49",
          "2020/Week 50",
          "2021/Week 02",
          "2021/Week 04",
          "2021/Week 06",
          "2021/Week 08",
          "2021/Week 09",
          "2021/Week 12",
          "2021/Week 15",
          "2021/Week 16",
          "2021/Week 18"
         ],
         "xaxis": "x",
         "y": [
          19,
          153,
          224,
          188,
          16,
          215,
          262,
          230,
          192,
          319,
          295,
          278,
          273,
          338,
          301,
          334,
          288,
          288,
          319,
          363,
          312,
          348,
          290,
          360,
          290,
          266,
          308,
          300,
          292,
          335,
          319,
          323,
          347,
          332,
          363,
          357,
          373,
          12,
          271,
          408,
          397,
          376,
          386,
          369,
          291,
          346,
          372,
          370,
          349,
          344,
          358,
          294,
          72,
          222,
          262,
          424,
          363,
          415,
          437,
          399,
          445,
          307,
          389,
          370,
          365,
          396,
          333,
          292,
          292,
          271,
          414,
          320,
          314,
          414,
          458,
          370,
          530,
          420
         ],
         "yaxis": "y"
        }
       ],
       "layout": {
        "legend": {
         "title": {
          "text": "variable"
         },
         "tracegroupgap": 0
        },
        "template": {
         "data": {
          "bar": [
           {
            "error_x": {
             "color": "#2a3f5f"
            },
            "error_y": {
             "color": "#2a3f5f"
            },
            "marker": {
             "line": {
              "color": "#E5ECF6",
              "width": 0.5
             }
            },
            "type": "bar"
           }
          ],
          "barpolar": [
           {
            "marker": {
             "line": {
              "color": "#E5ECF6",
              "width": 0.5
             }
            },
            "type": "barpolar"
           }
          ],
          "carpet": [
           {
            "aaxis": {
             "endlinecolor": "#2a3f5f",
             "gridcolor": "white",
             "linecolor": "white",
             "minorgridcolor": "white",
             "startlinecolor": "#2a3f5f"
            },
            "baxis": {
             "endlinecolor": "#2a3f5f",
             "gridcolor": "white",
             "linecolor": "white",
             "minorgridcolor": "white",
             "startlinecolor": "#2a3f5f"
            },
            "type": "carpet"
           }
          ],
          "choropleth": [
           {
            "colorbar": {
             "outlinewidth": 0,
             "ticks": ""
            },
            "type": "choropleth"
           }
          ],
          "contour": [
           {
            "colorbar": {
             "outlinewidth": 0,
             "ticks": ""
            },
            "colorscale": [
             [
              0,
              "#0d0887"
             ],
             [
              0.1111111111111111,
              "#46039f"
             ],
             [
              0.2222222222222222,
              "#7201a8"
             ],
             [
              0.3333333333333333,
              "#9c179e"
             ],
             [
              0.4444444444444444,
              "#bd3786"
             ],
             [
              0.5555555555555556,
              "#d8576b"
             ],
             [
              0.6666666666666666,
              "#ed7953"
             ],
             [
              0.7777777777777778,
              "#fb9f3a"
             ],
             [
              0.8888888888888888,
              "#fdca26"
             ],
             [
              1,
              "#f0f921"
             ]
            ],
            "type": "contour"
           }
          ],
          "contourcarpet": [
           {
            "colorbar": {
             "outlinewidth": 0,
             "ticks": ""
            },
            "type": "contourcarpet"
           }
          ],
          "heatmap": [
           {
            "colorbar": {
             "outlinewidth": 0,
             "ticks": ""
            },
            "colorscale": [
             [
              0,
              "#0d0887"
             ],
             [
              0.1111111111111111,
              "#46039f"
             ],
             [
              0.2222222222222222,
              "#7201a8"
             ],
             [
              0.3333333333333333,
              "#9c179e"
             ],
             [
              0.4444444444444444,
              "#bd3786"
             ],
             [
              0.5555555555555556,
              "#d8576b"
             ],
             [
              0.6666666666666666,
              "#ed7953"
             ],
             [
              0.7777777777777778,
              "#fb9f3a"
             ],
             [
              0.8888888888888888,
              "#fdca26"
             ],
             [
              1,
              "#f0f921"
             ]
            ],
            "type": "heatmap"
           }
          ],
          "heatmapgl": [
           {
            "colorbar": {
             "outlinewidth": 0,
             "ticks": ""
            },
            "colorscale": [
             [
              0,
              "#0d0887"
             ],
             [
              0.1111111111111111,
              "#46039f"
             ],
             [
              0.2222222222222222,
              "#7201a8"
             ],
             [
              0.3333333333333333,
              "#9c179e"
             ],
             [
              0.4444444444444444,
              "#bd3786"
             ],
             [
              0.5555555555555556,
              "#d8576b"
             ],
             [
              0.6666666666666666,
              "#ed7953"
             ],
             [
              0.7777777777777778,
              "#fb9f3a"
             ],
             [
              0.8888888888888888,
              "#fdca26"
             ],
             [
              1,
              "#f0f921"
             ]
            ],
            "type": "heatmapgl"
           }
          ],
          "histogram": [
           {
            "marker": {
             "colorbar": {
              "outlinewidth": 0,
              "ticks": ""
             }
            },
            "type": "histogram"
           }
          ],
          "histogram2d": [
           {
            "colorbar": {
             "outlinewidth": 0,
             "ticks": ""
            },
            "colorscale": [
             [
              0,
              "#0d0887"
             ],
             [
              0.1111111111111111,
              "#46039f"
             ],
             [
              0.2222222222222222,
              "#7201a8"
             ],
             [
              0.3333333333333333,
              "#9c179e"
             ],
             [
              0.4444444444444444,
              "#bd3786"
             ],
             [
              0.5555555555555556,
              "#d8576b"
             ],
             [
              0.6666666666666666,
              "#ed7953"
             ],
             [
              0.7777777777777778,
              "#fb9f3a"
             ],
             [
              0.8888888888888888,
              "#fdca26"
             ],
             [
              1,
              "#f0f921"
             ]
            ],
            "type": "histogram2d"
           }
          ],
          "histogram2dcontour": [
           {
            "colorbar": {
             "outlinewidth": 0,
             "ticks": ""
            },
            "colorscale": [
             [
              0,
              "#0d0887"
             ],
             [
              0.1111111111111111,
              "#46039f"
             ],
             [
              0.2222222222222222,
              "#7201a8"
             ],
             [
              0.3333333333333333,
              "#9c179e"
             ],
             [
              0.4444444444444444,
              "#bd3786"
             ],
             [
              0.5555555555555556,
              "#d8576b"
             ],
             [
              0.6666666666666666,
              "#ed7953"
             ],
             [
              0.7777777777777778,
              "#fb9f3a"
             ],
             [
              0.8888888888888888,
              "#fdca26"
             ],
             [
              1,
              "#f0f921"
             ]
            ],
            "type": "histogram2dcontour"
           }
          ],
          "mesh3d": [
           {
            "colorbar": {
             "outlinewidth": 0,
             "ticks": ""
            },
            "type": "mesh3d"
           }
          ],
          "parcoords": [
           {
            "line": {
             "colorbar": {
              "outlinewidth": 0,
              "ticks": ""
             }
            },
            "type": "parcoords"
           }
          ],
          "pie": [
           {
            "automargin": true,
            "type": "pie"
           }
          ],
          "scatter": [
           {
            "marker": {
             "colorbar": {
              "outlinewidth": 0,
              "ticks": ""
             }
            },
            "type": "scatter"
           }
          ],
          "scatter3d": [
           {
            "line": {
             "colorbar": {
              "outlinewidth": 0,
              "ticks": ""
             }
            },
            "marker": {
             "colorbar": {
              "outlinewidth": 0,
              "ticks": ""
             }
            },
            "type": "scatter3d"
           }
          ],
          "scattercarpet": [
           {
            "marker": {
             "colorbar": {
              "outlinewidth": 0,
              "ticks": ""
             }
            },
            "type": "scattercarpet"
           }
          ],
          "scattergeo": [
           {
            "marker": {
             "colorbar": {
              "outlinewidth": 0,
              "ticks": ""
             }
            },
            "type": "scattergeo"
           }
          ],
          "scattergl": [
           {
            "marker": {
             "colorbar": {
              "outlinewidth": 0,
              "ticks": ""
             }
            },
            "type": "scattergl"
           }
          ],
          "scattermapbox": [
           {
            "marker": {
             "colorbar": {
              "outlinewidth": 0,
              "ticks": ""
             }
            },
            "type": "scattermapbox"
           }
          ],
          "scatterpolar": [
           {
            "marker": {
             "colorbar": {
              "outlinewidth": 0,
              "ticks": ""
             }
            },
            "type": "scatterpolar"
           }
          ],
          "scatterpolargl": [
           {
            "marker": {
             "colorbar": {
              "outlinewidth": 0,
              "ticks": ""
             }
            },
            "type": "scatterpolargl"
           }
          ],
          "scatterternary": [
           {
            "marker": {
             "colorbar": {
              "outlinewidth": 0,
              "ticks": ""
             }
            },
            "type": "scatterternary"
           }
          ],
          "surface": [
           {
            "colorbar": {
             "outlinewidth": 0,
             "ticks": ""
            },
            "colorscale": [
             [
              0,
              "#0d0887"
             ],
             [
              0.1111111111111111,
              "#46039f"
             ],
             [
              0.2222222222222222,
              "#7201a8"
             ],
             [
              0.3333333333333333,
              "#9c179e"
             ],
             [
              0.4444444444444444,
              "#bd3786"
             ],
             [
              0.5555555555555556,
              "#d8576b"
             ],
             [
              0.6666666666666666,
              "#ed7953"
             ],
             [
              0.7777777777777778,
              "#fb9f3a"
             ],
             [
              0.8888888888888888,
              "#fdca26"
             ],
             [
              1,
              "#f0f921"
             ]
            ],
            "type": "surface"
           }
          ],
          "table": [
           {
            "cells": {
             "fill": {
              "color": "#EBF0F8"
             },
             "line": {
              "color": "white"
             }
            },
            "header": {
             "fill": {
              "color": "#C8D4E3"
             },
             "line": {
              "color": "white"
             }
            },
            "type": "table"
           }
          ]
         },
         "layout": {
          "annotationdefaults": {
           "arrowcolor": "#2a3f5f",
           "arrowhead": 0,
           "arrowwidth": 1
          },
          "autotypenumbers": "strict",
          "coloraxis": {
           "colorbar": {
            "outlinewidth": 0,
            "ticks": ""
           }
          },
          "colorscale": {
           "diverging": [
            [
             0,
             "#8e0152"
            ],
            [
             0.1,
             "#c51b7d"
            ],
            [
             0.2,
             "#de77ae"
            ],
            [
             0.3,
             "#f1b6da"
            ],
            [
             0.4,
             "#fde0ef"
            ],
            [
             0.5,
             "#f7f7f7"
            ],
            [
             0.6,
             "#e6f5d0"
            ],
            [
             0.7,
             "#b8e186"
            ],
            [
             0.8,
             "#7fbc41"
            ],
            [
             0.9,
             "#4d9221"
            ],
            [
             1,
             "#276419"
            ]
           ],
           "sequential": [
            [
             0,
             "#0d0887"
            ],
            [
             0.1111111111111111,
             "#46039f"
            ],
            [
             0.2222222222222222,
             "#7201a8"
            ],
            [
             0.3333333333333333,
             "#9c179e"
            ],
            [
             0.4444444444444444,
             "#bd3786"
            ],
            [
             0.5555555555555556,
             "#d8576b"
            ],
            [
             0.6666666666666666,
             "#ed7953"
            ],
            [
             0.7777777777777778,
             "#fb9f3a"
            ],
            [
             0.8888888888888888,
             "#fdca26"
            ],
            [
             1,
             "#f0f921"
            ]
           ],
           "sequentialminus": [
            [
             0,
             "#0d0887"
            ],
            [
             0.1111111111111111,
             "#46039f"
            ],
            [
             0.2222222222222222,
             "#7201a8"
            ],
            [
             0.3333333333333333,
             "#9c179e"
            ],
            [
             0.4444444444444444,
             "#bd3786"
            ],
            [
             0.5555555555555556,
             "#d8576b"
            ],
            [
             0.6666666666666666,
             "#ed7953"
            ],
            [
             0.7777777777777778,
             "#fb9f3a"
            ],
            [
             0.8888888888888888,
             "#fdca26"
            ],
            [
             1,
             "#f0f921"
            ]
           ]
          },
          "colorway": [
           "#636efa",
           "#EF553B",
           "#00cc96",
           "#ab63fa",
           "#FFA15A",
           "#19d3f3",
           "#FF6692",
           "#B6E880",
           "#FF97FF",
           "#FECB52"
          ],
          "font": {
           "color": "#2a3f5f"
          },
          "geo": {
           "bgcolor": "white",
           "lakecolor": "white",
           "landcolor": "#E5ECF6",
           "showlakes": true,
           "showland": true,
           "subunitcolor": "white"
          },
          "hoverlabel": {
           "align": "left"
          },
          "hovermode": "closest",
          "mapbox": {
           "style": "light"
          },
          "paper_bgcolor": "white",
          "plot_bgcolor": "#E5ECF6",
          "polar": {
           "angularaxis": {
            "gridcolor": "white",
            "linecolor": "white",
            "ticks": ""
           },
           "bgcolor": "#E5ECF6",
           "radialaxis": {
            "gridcolor": "white",
            "linecolor": "white",
            "ticks": ""
           }
          },
          "scene": {
           "xaxis": {
            "backgroundcolor": "#E5ECF6",
            "gridcolor": "white",
            "gridwidth": 2,
            "linecolor": "white",
            "showbackground": true,
            "ticks": "",
            "zerolinecolor": "white"
           },
           "yaxis": {
            "backgroundcolor": "#E5ECF6",
            "gridcolor": "white",
            "gridwidth": 2,
            "linecolor": "white",
            "showbackground": true,
            "ticks": "",
            "zerolinecolor": "white"
           },
           "zaxis": {
            "backgroundcolor": "#E5ECF6",
            "gridcolor": "white",
            "gridwidth": 2,
            "linecolor": "white",
            "showbackground": true,
            "ticks": "",
            "zerolinecolor": "white"
           }
          },
          "shapedefaults": {
           "line": {
            "color": "#2a3f5f"
           }
          },
          "ternary": {
           "aaxis": {
            "gridcolor": "white",
            "linecolor": "white",
            "ticks": ""
           },
           "baxis": {
            "gridcolor": "white",
            "linecolor": "white",
            "ticks": ""
           },
           "bgcolor": "#E5ECF6",
           "caxis": {
            "gridcolor": "white",
            "linecolor": "white",
            "ticks": ""
           }
          },
          "title": {
           "x": 0.05
          },
          "xaxis": {
           "automargin": true,
           "gridcolor": "white",
           "linecolor": "white",
           "ticks": "",
           "title": {
            "standoff": 15
           },
           "zerolinecolor": "white",
           "zerolinewidth": 2
          },
          "yaxis": {
           "automargin": true,
           "gridcolor": "white",
           "linecolor": "white",
           "ticks": "",
           "title": {
            "standoff": 15
           },
           "zerolinecolor": "white",
           "zerolinewidth": 2
          }
         }
        },
        "title": {
         "text": "Anzahl der Reden pro Woche in den Jahren 2017 - 2021"
        },
        "xaxis": {
         "anchor": "y",
         "domain": [
          0,
          1
         ],
         "title": {
          "text": "week"
         }
        },
        "yaxis": {
         "anchor": "x",
         "domain": [
          0,
          1
         ],
         "title": {
          "text": "value"
         }
        }
       }
      },
      "text/html": [
       "<div>                            <div id=\"1067b25b-15f0-46e2-9793-13397c109e23\" class=\"plotly-graph-div\" style=\"height:525px; width:100%;\"></div>            <script type=\"text/javascript\">                require([\"plotly\"], function(Plotly) {                    window.PLOTLYENV=window.PLOTLYENV || {};                                    if (document.getElementById(\"1067b25b-15f0-46e2-9793-13397c109e23\")) {                    Plotly.newPlot(                        \"1067b25b-15f0-46e2-9793-13397c109e23\",                        [{\"hovertemplate\": \"variable=Reden pro Woche<br>week=%{x}<br>value=%{y}<extra></extra>\", \"legendgroup\": \"Reden pro Woche\", \"line\": {\"color\": \"#636efa\", \"dash\": \"solid\"}, \"mode\": \"lines\", \"name\": \"Reden pro Woche\", \"orientation\": \"v\", \"showlegend\": true, \"type\": \"scatter\", \"x\": [\"2017/Week 43\", \"2017/Week 47\", \"2017/Week 50\", \"2018/Week 03\", \"2018/Week 04\", \"2018/Week 05\", \"2018/Week 08\", \"2018/Week 09\", \"2018/Week 11\", \"2018/Week 12\", \"2018/Week 16\", \"2018/Week 17\", \"2018/Week 20\", \"2018/Week 23\", \"2018/Week 24\", \"2018/Week 26\", \"2018/Week 27\", \"2018/Week 37\", \"2018/Week 39\", \"2018/Week 41\", \"2018/Week 42\", \"2018/Week 45\", \"2018/Week 47\", \"2018/Week 48\", \"2018/Week 50\", \"2019/Week 02\", \"2019/Week 04\", \"2019/Week 06\", \"2019/Week 07\", \"2019/Week 10\", \"2019/Week 11\", \"2019/Week 13\", \"2019/Week 14\", \"2019/Week 18\", \"2019/Week 19\", \"2019/Week 22\", \"2019/Week 25\", \"2019/Week 29\", \"2019/Week 36\", \"2019/Week 38\", \"2019/Week 41\", \"2019/Week 42\", \"2019/Week 44\", \"2019/Week 45\", \"2019/Week 47\", \"2019/Week 49\", \"2019/Week 50\", \"2020/Week 02\", \"2020/Week 04\", \"2020/Week 06\", \"2020/Week 09\", \"2020/Week 10\", \"2020/Week 12\", \"2020/Week 16\", \"2020/Week 18\", \"2020/Week 19\", \"2020/Week 21\", \"2020/Week 24\", \"2020/Week 26\", \"2020/Week 36\", \"2020/Week 37\", \"2020/Week 39\", \"2020/Week 40\", \"2020/Week 43\", \"2020/Week 44\", \"2020/Week 46\", \"2020/Week 47\", \"2020/Week 49\", \"2020/Week 50\", \"2021/Week 02\", \"2021/Week 04\", \"2021/Week 06\", \"2021/Week 08\", \"2021/Week 09\", \"2021/Week 12\", \"2021/Week 15\", \"2021/Week 16\", \"2021/Week 18\"], \"xaxis\": \"x\", \"y\": [19, 153, 224, 188, 16, 215, 262, 230, 192, 319, 295, 278, 273, 338, 301, 334, 288, 288, 319, 363, 312, 348, 290, 360, 290, 266, 308, 300, 292, 335, 319, 323, 347, 332, 363, 357, 373, 12, 271, 408, 397, 376, 386, 369, 291, 346, 372, 370, 349, 344, 358, 294, 72, 222, 262, 424, 363, 415, 437, 399, 445, 307, 389, 370, 365, 396, 333, 292, 292, 271, 414, 320, 314, 414, 458, 370, 530, 420], \"yaxis\": \"y\"}],                        {\"legend\": {\"title\": {\"text\": \"variable\"}, \"tracegroupgap\": 0}, \"template\": {\"data\": {\"bar\": [{\"error_x\": {\"color\": \"#2a3f5f\"}, \"error_y\": {\"color\": \"#2a3f5f\"}, \"marker\": {\"line\": {\"color\": \"#E5ECF6\", \"width\": 0.5}}, \"type\": \"bar\"}], \"barpolar\": [{\"marker\": {\"line\": {\"color\": \"#E5ECF6\", \"width\": 0.5}}, \"type\": \"barpolar\"}], \"carpet\": [{\"aaxis\": {\"endlinecolor\": \"#2a3f5f\", \"gridcolor\": \"white\", \"linecolor\": \"white\", \"minorgridcolor\": \"white\", \"startlinecolor\": \"#2a3f5f\"}, \"baxis\": {\"endlinecolor\": \"#2a3f5f\", \"gridcolor\": \"white\", \"linecolor\": \"white\", \"minorgridcolor\": \"white\", \"startlinecolor\": \"#2a3f5f\"}, \"type\": \"carpet\"}], \"choropleth\": [{\"colorbar\": {\"outlinewidth\": 0, \"ticks\": \"\"}, \"type\": \"choropleth\"}], \"contour\": [{\"colorbar\": {\"outlinewidth\": 0, \"ticks\": \"\"}, \"colorscale\": [[0.0, \"#0d0887\"], [0.1111111111111111, \"#46039f\"], [0.2222222222222222, \"#7201a8\"], [0.3333333333333333, \"#9c179e\"], [0.4444444444444444, \"#bd3786\"], [0.5555555555555556, \"#d8576b\"], [0.6666666666666666, \"#ed7953\"], [0.7777777777777778, \"#fb9f3a\"], [0.8888888888888888, \"#fdca26\"], [1.0, \"#f0f921\"]], \"type\": \"contour\"}], \"contourcarpet\": [{\"colorbar\": {\"outlinewidth\": 0, \"ticks\": \"\"}, \"type\": \"contourcarpet\"}], \"heatmap\": [{\"colorbar\": {\"outlinewidth\": 0, \"ticks\": \"\"}, \"colorscale\": [[0.0, \"#0d0887\"], [0.1111111111111111, \"#46039f\"], [0.2222222222222222, \"#7201a8\"], [0.3333333333333333, \"#9c179e\"], [0.4444444444444444, \"#bd3786\"], [0.5555555555555556, \"#d8576b\"], [0.6666666666666666, \"#ed7953\"], [0.7777777777777778, \"#fb9f3a\"], [0.8888888888888888, \"#fdca26\"], [1.0, \"#f0f921\"]], \"type\": \"heatmap\"}], \"heatmapgl\": [{\"colorbar\": {\"outlinewidth\": 0, \"ticks\": \"\"}, \"colorscale\": [[0.0, \"#0d0887\"], [0.1111111111111111, \"#46039f\"], [0.2222222222222222, \"#7201a8\"], [0.3333333333333333, \"#9c179e\"], [0.4444444444444444, \"#bd3786\"], [0.5555555555555556, \"#d8576b\"], [0.6666666666666666, \"#ed7953\"], [0.7777777777777778, \"#fb9f3a\"], [0.8888888888888888, \"#fdca26\"], [1.0, \"#f0f921\"]], \"type\": \"heatmapgl\"}], \"histogram\": [{\"marker\": {\"colorbar\": {\"outlinewidth\": 0, \"ticks\": \"\"}}, \"type\": \"histogram\"}], \"histogram2d\": [{\"colorbar\": {\"outlinewidth\": 0, \"ticks\": \"\"}, \"colorscale\": [[0.0, \"#0d0887\"], [0.1111111111111111, \"#46039f\"], [0.2222222222222222, \"#7201a8\"], [0.3333333333333333, \"#9c179e\"], [0.4444444444444444, \"#bd3786\"], [0.5555555555555556, \"#d8576b\"], [0.6666666666666666, \"#ed7953\"], [0.7777777777777778, \"#fb9f3a\"], [0.8888888888888888, \"#fdca26\"], [1.0, \"#f0f921\"]], \"type\": \"histogram2d\"}], \"histogram2dcontour\": [{\"colorbar\": {\"outlinewidth\": 0, \"ticks\": \"\"}, \"colorscale\": [[0.0, \"#0d0887\"], [0.1111111111111111, \"#46039f\"], [0.2222222222222222, \"#7201a8\"], [0.3333333333333333, \"#9c179e\"], [0.4444444444444444, \"#bd3786\"], [0.5555555555555556, \"#d8576b\"], [0.6666666666666666, \"#ed7953\"], [0.7777777777777778, \"#fb9f3a\"], [0.8888888888888888, \"#fdca26\"], [1.0, \"#f0f921\"]], \"type\": \"histogram2dcontour\"}], \"mesh3d\": [{\"colorbar\": {\"outlinewidth\": 0, \"ticks\": \"\"}, \"type\": \"mesh3d\"}], \"parcoords\": [{\"line\": {\"colorbar\": {\"outlinewidth\": 0, \"ticks\": \"\"}}, \"type\": \"parcoords\"}], \"pie\": [{\"automargin\": true, \"type\": \"pie\"}], \"scatter\": [{\"marker\": {\"colorbar\": {\"outlinewidth\": 0, \"ticks\": \"\"}}, \"type\": \"scatter\"}], \"scatter3d\": [{\"line\": {\"colorbar\": {\"outlinewidth\": 0, \"ticks\": \"\"}}, \"marker\": {\"colorbar\": {\"outlinewidth\": 0, \"ticks\": \"\"}}, \"type\": \"scatter3d\"}], \"scattercarpet\": [{\"marker\": {\"colorbar\": {\"outlinewidth\": 0, \"ticks\": \"\"}}, \"type\": \"scattercarpet\"}], \"scattergeo\": [{\"marker\": {\"colorbar\": {\"outlinewidth\": 0, \"ticks\": \"\"}}, \"type\": \"scattergeo\"}], \"scattergl\": [{\"marker\": {\"colorbar\": {\"outlinewidth\": 0, \"ticks\": \"\"}}, \"type\": \"scattergl\"}], \"scattermapbox\": [{\"marker\": {\"colorbar\": {\"outlinewidth\": 0, \"ticks\": \"\"}}, \"type\": \"scattermapbox\"}], \"scatterpolar\": [{\"marker\": {\"colorbar\": {\"outlinewidth\": 0, \"ticks\": \"\"}}, \"type\": \"scatterpolar\"}], \"scatterpolargl\": [{\"marker\": {\"colorbar\": {\"outlinewidth\": 0, \"ticks\": \"\"}}, \"type\": \"scatterpolargl\"}], \"scatterternary\": [{\"marker\": {\"colorbar\": {\"outlinewidth\": 0, \"ticks\": \"\"}}, \"type\": \"scatterternary\"}], \"surface\": [{\"colorbar\": {\"outlinewidth\": 0, \"ticks\": \"\"}, \"colorscale\": [[0.0, \"#0d0887\"], [0.1111111111111111, \"#46039f\"], [0.2222222222222222, \"#7201a8\"], [0.3333333333333333, \"#9c179e\"], [0.4444444444444444, \"#bd3786\"], [0.5555555555555556, \"#d8576b\"], [0.6666666666666666, \"#ed7953\"], [0.7777777777777778, \"#fb9f3a\"], [0.8888888888888888, \"#fdca26\"], [1.0, \"#f0f921\"]], \"type\": \"surface\"}], \"table\": [{\"cells\": {\"fill\": {\"color\": \"#EBF0F8\"}, \"line\": {\"color\": \"white\"}}, \"header\": {\"fill\": {\"color\": \"#C8D4E3\"}, \"line\": {\"color\": \"white\"}}, \"type\": \"table\"}]}, \"layout\": {\"annotationdefaults\": {\"arrowcolor\": \"#2a3f5f\", \"arrowhead\": 0, \"arrowwidth\": 1}, \"autotypenumbers\": \"strict\", \"coloraxis\": {\"colorbar\": {\"outlinewidth\": 0, \"ticks\": \"\"}}, \"colorscale\": {\"diverging\": [[0, \"#8e0152\"], [0.1, \"#c51b7d\"], [0.2, \"#de77ae\"], [0.3, \"#f1b6da\"], [0.4, \"#fde0ef\"], [0.5, \"#f7f7f7\"], [0.6, \"#e6f5d0\"], [0.7, \"#b8e186\"], [0.8, \"#7fbc41\"], [0.9, \"#4d9221\"], [1, \"#276419\"]], \"sequential\": [[0.0, \"#0d0887\"], [0.1111111111111111, \"#46039f\"], [0.2222222222222222, \"#7201a8\"], [0.3333333333333333, \"#9c179e\"], [0.4444444444444444, \"#bd3786\"], [0.5555555555555556, \"#d8576b\"], [0.6666666666666666, \"#ed7953\"], [0.7777777777777778, \"#fb9f3a\"], [0.8888888888888888, \"#fdca26\"], [1.0, \"#f0f921\"]], \"sequentialminus\": [[0.0, \"#0d0887\"], [0.1111111111111111, \"#46039f\"], [0.2222222222222222, \"#7201a8\"], [0.3333333333333333, \"#9c179e\"], [0.4444444444444444, \"#bd3786\"], [0.5555555555555556, \"#d8576b\"], [0.6666666666666666, \"#ed7953\"], [0.7777777777777778, \"#fb9f3a\"], [0.8888888888888888, \"#fdca26\"], [1.0, \"#f0f921\"]]}, \"colorway\": [\"#636efa\", \"#EF553B\", \"#00cc96\", \"#ab63fa\", \"#FFA15A\", \"#19d3f3\", \"#FF6692\", \"#B6E880\", \"#FF97FF\", \"#FECB52\"], \"font\": {\"color\": \"#2a3f5f\"}, \"geo\": {\"bgcolor\": \"white\", \"lakecolor\": \"white\", \"landcolor\": \"#E5ECF6\", \"showlakes\": true, \"showland\": true, \"subunitcolor\": \"white\"}, \"hoverlabel\": {\"align\": \"left\"}, \"hovermode\": \"closest\", \"mapbox\": {\"style\": \"light\"}, \"paper_bgcolor\": \"white\", \"plot_bgcolor\": \"#E5ECF6\", \"polar\": {\"angularaxis\": {\"gridcolor\": \"white\", \"linecolor\": \"white\", \"ticks\": \"\"}, \"bgcolor\": \"#E5ECF6\", \"radialaxis\": {\"gridcolor\": \"white\", \"linecolor\": \"white\", \"ticks\": \"\"}}, \"scene\": {\"xaxis\": {\"backgroundcolor\": \"#E5ECF6\", \"gridcolor\": \"white\", \"gridwidth\": 2, \"linecolor\": \"white\", \"showbackground\": true, \"ticks\": \"\", \"zerolinecolor\": \"white\"}, \"yaxis\": {\"backgroundcolor\": \"#E5ECF6\", \"gridcolor\": \"white\", \"gridwidth\": 2, \"linecolor\": \"white\", \"showbackground\": true, \"ticks\": \"\", \"zerolinecolor\": \"white\"}, \"zaxis\": {\"backgroundcolor\": \"#E5ECF6\", \"gridcolor\": \"white\", \"gridwidth\": 2, \"linecolor\": \"white\", \"showbackground\": true, \"ticks\": \"\", \"zerolinecolor\": \"white\"}}, \"shapedefaults\": {\"line\": {\"color\": \"#2a3f5f\"}}, \"ternary\": {\"aaxis\": {\"gridcolor\": \"white\", \"linecolor\": \"white\", \"ticks\": \"\"}, \"baxis\": {\"gridcolor\": \"white\", \"linecolor\": \"white\", \"ticks\": \"\"}, \"bgcolor\": \"#E5ECF6\", \"caxis\": {\"gridcolor\": \"white\", \"linecolor\": \"white\", \"ticks\": \"\"}}, \"title\": {\"x\": 0.05}, \"xaxis\": {\"automargin\": true, \"gridcolor\": \"white\", \"linecolor\": \"white\", \"ticks\": \"\", \"title\": {\"standoff\": 15}, \"zerolinecolor\": \"white\", \"zerolinewidth\": 2}, \"yaxis\": {\"automargin\": true, \"gridcolor\": \"white\", \"linecolor\": \"white\", \"ticks\": \"\", \"title\": {\"standoff\": 15}, \"zerolinecolor\": \"white\", \"zerolinewidth\": 2}}}, \"title\": {\"text\": \"Anzahl der Reden pro Woche in den Jahren 2017 - 2021\"}, \"xaxis\": {\"anchor\": \"y\", \"domain\": [0.0, 1.0], \"title\": {\"text\": \"week\"}}, \"yaxis\": {\"anchor\": \"x\", \"domain\": [0.0, 1.0], \"title\": {\"text\": \"value\"}}},                        {\"responsive\": true}                    ).then(function(){\n",
       "                            \n",
       "var gd = document.getElementById('1067b25b-15f0-46e2-9793-13397c109e23');\n",
       "var x = new MutationObserver(function (mutations, observer) {{\n",
       "        var display = window.getComputedStyle(gd).display;\n",
       "        if (!display || display === 'none') {{\n",
       "            console.log([gd, 'removed!']);\n",
       "            Plotly.purge(gd);\n",
       "            observer.disconnect();\n",
       "        }}\n",
       "}});\n",
       "\n",
       "// Listen for the removal of the full notebook cells\n",
       "var notebookContainer = gd.closest('#notebook-container');\n",
       "if (notebookContainer) {{\n",
       "    x.observe(notebookContainer, {childList: true});\n",
       "}}\n",
       "\n",
       "// Listen for the clearing of the current output cell\n",
       "var outputEl = gd.closest('.output');\n",
       "if (outputEl) {{\n",
       "    x.observe(outputEl, {childList: true});\n",
       "}}\n",
       "\n",
       "                        })                };                });            </script>        </div>"
      ]
     },
     "metadata": {},
     "output_type": "display_data"
    }
   ],
   "source": [
    "timeseries_speeches_df.plot(title=\"Anzahl der Reden pro Woche in den Jahren 2017 - 2021\")"
   ]
  },
  {
   "cell_type": "markdown",
   "metadata": {},
   "source": [
    "Als erstes lässt sich feststellen, dass die Anzahl der Reden im laufe der Legislaturperiode deutlich von ca. 200 auf 500 Reden pro Woche gestiegen ist.\n",
    "\n",
    "2019 ist mitte Juli die [Sommerpause im Bundestag](https://www.bundestag.de/services/glossar/glossar/P/parlamentarische_sommerpause-247336) zu erkennen. Das die [Sommerpause im Juni 2018](https://www.marcusweinberg.de/images/bundestag/Sitzungskalender-Deutscher-Bundestag-2018.pdf) und im [Juni 2020](https://jens-koeppen.de/wp-content/uploads/2019/09/Sitzungskalender-Deutscher-Bundestag-2020-1.jpg) ebenfalls stattgefunden hat lässt sich erst auf dem zweiten Blick erkennen. Da zwischen Woche 27 und Woche 39 bzw. Woche 26 und Woche 37 keine Daten vorhanden waren, wird der Zeitraum einfach übersprungen.\n",
    "\n",
    "Während 2020, wohl vor allem aufgrund des ersten Lockdowns Anfang März kaum Reden im Bundestag stattfanden. Auch pünktlich zum zweiten Lockdown (Woche 49) im Winter 20/21 fallen die Anzahl der Reden leicht. Davor und danach sind jedoch deutliche Steigungen zu erkennen, was für eine hitzige Dabatte um Lockdowneinführungen bzw. Lockerungen spricht."
   ]
  },
  {
   "cell_type": "markdown",
   "metadata": {},
   "source": [
    "### Wörter pro Woche (LP19):"
   ]
  },
  {
   "cell_type": "code",
   "execution_count": 29,
   "metadata": {
    "ExecuteTime": {
     "end_time": "2021-06-17T15:46:38.951326Z",
     "start_time": "2021-06-17T15:46:38.756846Z"
    },
    "scrolled": true
   },
   "outputs": [
    {
     "data": {
      "text/html": [
       "<div>\n",
       "<style scoped>\n",
       "    .dataframe tbody tr th:only-of-type {\n",
       "        vertical-align: middle;\n",
       "    }\n",
       "\n",
       "    .dataframe tbody tr th {\n",
       "        vertical-align: top;\n",
       "    }\n",
       "\n",
       "    .dataframe thead th {\n",
       "        text-align: right;\n",
       "    }\n",
       "</style>\n",
       "<table border=\"1\" class=\"dataframe tex2jax_ignore\">\n",
       "  <thead>\n",
       "    <tr style=\"text-align: right;\">\n",
       "      <th></th>\n",
       "      <th>Wörter pro Woche</th>\n",
       "    </tr>\n",
       "    <tr>\n",
       "      <th>week</th>\n",
       "      <th></th>\n",
       "    </tr>\n",
       "  </thead>\n",
       "  <tbody>\n",
       "    <tr>\n",
       "      <th>2017/Week 43</th>\n",
       "      <td>6450</td>\n",
       "    </tr>\n",
       "    <tr>\n",
       "      <th>2017/Week 47</th>\n",
       "      <td>83975</td>\n",
       "    </tr>\n",
       "    <tr>\n",
       "      <th>2017/Week 50</th>\n",
       "      <td>94831</td>\n",
       "    </tr>\n",
       "    <tr>\n",
       "      <th>2018/Week 03</th>\n",
       "      <td>86589</td>\n",
       "    </tr>\n",
       "    <tr>\n",
       "      <th>2018/Week 04</th>\n",
       "      <td>11265</td>\n",
       "    </tr>\n",
       "    <tr>\n",
       "      <th>...</th>\n",
       "      <td>...</td>\n",
       "    </tr>\n",
       "    <tr>\n",
       "      <th>2021/Week 09</th>\n",
       "      <td>184704</td>\n",
       "    </tr>\n",
       "    <tr>\n",
       "      <th>2021/Week 12</th>\n",
       "      <td>209192</td>\n",
       "    </tr>\n",
       "    <tr>\n",
       "      <th>2021/Week 15</th>\n",
       "      <td>163417</td>\n",
       "    </tr>\n",
       "    <tr>\n",
       "      <th>2021/Week 16</th>\n",
       "      <td>232746</td>\n",
       "    </tr>\n",
       "    <tr>\n",
       "      <th>2021/Week 18</th>\n",
       "      <td>179287</td>\n",
       "    </tr>\n",
       "  </tbody>\n",
       "</table>\n",
       "<p>78 rows × 1 columns</p>\n",
       "</div>"
      ],
      "text/plain": [
       "              Wörter pro Woche\n",
       "week                          \n",
       "2017/Week 43              6450\n",
       "2017/Week 47             83975\n",
       "2017/Week 50             94831\n",
       "2018/Week 03             86589\n",
       "2018/Week 04             11265\n",
       "...                        ...\n",
       "2021/Week 09            184704\n",
       "2021/Week 12            209192\n",
       "2021/Week 15            163417\n",
       "2021/Week 16            232746\n",
       "2021/Week 18            179287\n",
       "\n",
       "[78 rows x 1 columns]"
      ]
     },
     "execution_count": 29,
     "metadata": {},
     "output_type": "execute_result"
    }
   ],
   "source": [
    "timeseries_words_df = df.query('year >= 2017') \\\n",
    "                  .groupby('week').agg({'length': 'sum'}) \\\n",
    "                  .rename(columns={'length': 'Wörter pro Woche'})\n",
    "                  \n",
    "timeseries_words_df"
   ]
  },
  {
   "cell_type": "code",
   "execution_count": 16,
   "metadata": {
    "ExecuteTime": {
     "end_time": "2021-06-17T14:41:28.190162Z",
     "start_time": "2021-06-17T14:41:27.960727Z"
    },
    "scrolled": false
   },
   "outputs": [
    {
     "data": {
      "application/vnd.plotly.v1+json": {
       "config": {
        "plotlyServerURL": "https://plot.ly"
       },
       "data": [
        {
         "hovertemplate": "variable=Wörter pro Woche<br>week=%{x}<br>value=%{y}<extra></extra>",
         "legendgroup": "Wörter pro Woche",
         "line": {
          "color": "#636efa",
          "dash": "solid"
         },
         "mode": "lines",
         "name": "Wörter pro Woche",
         "orientation": "v",
         "showlegend": true,
         "type": "scatter",
         "x": [
          "2017/Week 43",
          "2017/Week 47",
          "2017/Week 50",
          "2018/Week 03",
          "2018/Week 04",
          "2018/Week 05",
          "2018/Week 08",
          "2018/Week 09",
          "2018/Week 11",
          "2018/Week 12",
          "2018/Week 16",
          "2018/Week 17",
          "2018/Week 20",
          "2018/Week 23",
          "2018/Week 24",
          "2018/Week 26",
          "2018/Week 27",
          "2018/Week 37",
          "2018/Week 39",
          "2018/Week 41",
          "2018/Week 42",
          "2018/Week 45",
          "2018/Week 47",
          "2018/Week 48",
          "2018/Week 50",
          "2019/Week 02",
          "2019/Week 04",
          "2019/Week 06",
          "2019/Week 07",
          "2019/Week 10",
          "2019/Week 11",
          "2019/Week 13",
          "2019/Week 14",
          "2019/Week 18",
          "2019/Week 19",
          "2019/Week 22",
          "2019/Week 25",
          "2019/Week 29",
          "2019/Week 36",
          "2019/Week 38",
          "2019/Week 41",
          "2019/Week 42",
          "2019/Week 44",
          "2019/Week 45",
          "2019/Week 47",
          "2019/Week 49",
          "2019/Week 50",
          "2020/Week 02",
          "2020/Week 04",
          "2020/Week 06",
          "2020/Week 09",
          "2020/Week 10",
          "2020/Week 12",
          "2020/Week 16",
          "2020/Week 18",
          "2020/Week 19",
          "2020/Week 21",
          "2020/Week 24",
          "2020/Week 26",
          "2020/Week 36",
          "2020/Week 37",
          "2020/Week 39",
          "2020/Week 40",
          "2020/Week 43",
          "2020/Week 44",
          "2020/Week 46",
          "2020/Week 47",
          "2020/Week 49",
          "2020/Week 50",
          "2021/Week 02",
          "2021/Week 04",
          "2021/Week 06",
          "2021/Week 08",
          "2021/Week 09",
          "2021/Week 12",
          "2021/Week 15",
          "2021/Week 16",
          "2021/Week 18"
         ],
         "xaxis": "x",
         "y": [
          6450,
          83975,
          94831,
          86589,
          11265,
          101238,
          118820,
          100231,
          91319,
          182226,
          138528,
          131294,
          192636,
          170798,
          137738,
          159562,
          186262,
          197320,
          157746,
          159241,
          149014,
          168044,
          189682,
          168823,
          129092,
          127706,
          138600,
          131084,
          128797,
          147300,
          145345,
          142303,
          142096,
          148215,
          161705,
          150156,
          174247,
          7892,
          188461,
          170633,
          178636,
          160881,
          177257,
          167959,
          183209,
          145562,
          145194,
          165498,
          127522,
          135927,
          164176,
          120643,
          38919,
          98642,
          109779,
          188045,
          159440,
          188946,
          201096,
          183197,
          209706,
          208552,
          164298,
          171105,
          164412,
          178114,
          157115,
          196324,
          123930,
          115925,
          174579,
          157922,
          141473,
          184704,
          209192,
          163417,
          232746,
          179287
         ],
         "yaxis": "y"
        }
       ],
       "layout": {
        "legend": {
         "title": {
          "text": "variable"
         },
         "tracegroupgap": 0
        },
        "template": {
         "data": {
          "bar": [
           {
            "error_x": {
             "color": "#2a3f5f"
            },
            "error_y": {
             "color": "#2a3f5f"
            },
            "marker": {
             "line": {
              "color": "#E5ECF6",
              "width": 0.5
             }
            },
            "type": "bar"
           }
          ],
          "barpolar": [
           {
            "marker": {
             "line": {
              "color": "#E5ECF6",
              "width": 0.5
             }
            },
            "type": "barpolar"
           }
          ],
          "carpet": [
           {
            "aaxis": {
             "endlinecolor": "#2a3f5f",
             "gridcolor": "white",
             "linecolor": "white",
             "minorgridcolor": "white",
             "startlinecolor": "#2a3f5f"
            },
            "baxis": {
             "endlinecolor": "#2a3f5f",
             "gridcolor": "white",
             "linecolor": "white",
             "minorgridcolor": "white",
             "startlinecolor": "#2a3f5f"
            },
            "type": "carpet"
           }
          ],
          "choropleth": [
           {
            "colorbar": {
             "outlinewidth": 0,
             "ticks": ""
            },
            "type": "choropleth"
           }
          ],
          "contour": [
           {
            "colorbar": {
             "outlinewidth": 0,
             "ticks": ""
            },
            "colorscale": [
             [
              0,
              "#0d0887"
             ],
             [
              0.1111111111111111,
              "#46039f"
             ],
             [
              0.2222222222222222,
              "#7201a8"
             ],
             [
              0.3333333333333333,
              "#9c179e"
             ],
             [
              0.4444444444444444,
              "#bd3786"
             ],
             [
              0.5555555555555556,
              "#d8576b"
             ],
             [
              0.6666666666666666,
              "#ed7953"
             ],
             [
              0.7777777777777778,
              "#fb9f3a"
             ],
             [
              0.8888888888888888,
              "#fdca26"
             ],
             [
              1,
              "#f0f921"
             ]
            ],
            "type": "contour"
           }
          ],
          "contourcarpet": [
           {
            "colorbar": {
             "outlinewidth": 0,
             "ticks": ""
            },
            "type": "contourcarpet"
           }
          ],
          "heatmap": [
           {
            "colorbar": {
             "outlinewidth": 0,
             "ticks": ""
            },
            "colorscale": [
             [
              0,
              "#0d0887"
             ],
             [
              0.1111111111111111,
              "#46039f"
             ],
             [
              0.2222222222222222,
              "#7201a8"
             ],
             [
              0.3333333333333333,
              "#9c179e"
             ],
             [
              0.4444444444444444,
              "#bd3786"
             ],
             [
              0.5555555555555556,
              "#d8576b"
             ],
             [
              0.6666666666666666,
              "#ed7953"
             ],
             [
              0.7777777777777778,
              "#fb9f3a"
             ],
             [
              0.8888888888888888,
              "#fdca26"
             ],
             [
              1,
              "#f0f921"
             ]
            ],
            "type": "heatmap"
           }
          ],
          "heatmapgl": [
           {
            "colorbar": {
             "outlinewidth": 0,
             "ticks": ""
            },
            "colorscale": [
             [
              0,
              "#0d0887"
             ],
             [
              0.1111111111111111,
              "#46039f"
             ],
             [
              0.2222222222222222,
              "#7201a8"
             ],
             [
              0.3333333333333333,
              "#9c179e"
             ],
             [
              0.4444444444444444,
              "#bd3786"
             ],
             [
              0.5555555555555556,
              "#d8576b"
             ],
             [
              0.6666666666666666,
              "#ed7953"
             ],
             [
              0.7777777777777778,
              "#fb9f3a"
             ],
             [
              0.8888888888888888,
              "#fdca26"
             ],
             [
              1,
              "#f0f921"
             ]
            ],
            "type": "heatmapgl"
           }
          ],
          "histogram": [
           {
            "marker": {
             "colorbar": {
              "outlinewidth": 0,
              "ticks": ""
             }
            },
            "type": "histogram"
           }
          ],
          "histogram2d": [
           {
            "colorbar": {
             "outlinewidth": 0,
             "ticks": ""
            },
            "colorscale": [
             [
              0,
              "#0d0887"
             ],
             [
              0.1111111111111111,
              "#46039f"
             ],
             [
              0.2222222222222222,
              "#7201a8"
             ],
             [
              0.3333333333333333,
              "#9c179e"
             ],
             [
              0.4444444444444444,
              "#bd3786"
             ],
             [
              0.5555555555555556,
              "#d8576b"
             ],
             [
              0.6666666666666666,
              "#ed7953"
             ],
             [
              0.7777777777777778,
              "#fb9f3a"
             ],
             [
              0.8888888888888888,
              "#fdca26"
             ],
             [
              1,
              "#f0f921"
             ]
            ],
            "type": "histogram2d"
           }
          ],
          "histogram2dcontour": [
           {
            "colorbar": {
             "outlinewidth": 0,
             "ticks": ""
            },
            "colorscale": [
             [
              0,
              "#0d0887"
             ],
             [
              0.1111111111111111,
              "#46039f"
             ],
             [
              0.2222222222222222,
              "#7201a8"
             ],
             [
              0.3333333333333333,
              "#9c179e"
             ],
             [
              0.4444444444444444,
              "#bd3786"
             ],
             [
              0.5555555555555556,
              "#d8576b"
             ],
             [
              0.6666666666666666,
              "#ed7953"
             ],
             [
              0.7777777777777778,
              "#fb9f3a"
             ],
             [
              0.8888888888888888,
              "#fdca26"
             ],
             [
              1,
              "#f0f921"
             ]
            ],
            "type": "histogram2dcontour"
           }
          ],
          "mesh3d": [
           {
            "colorbar": {
             "outlinewidth": 0,
             "ticks": ""
            },
            "type": "mesh3d"
           }
          ],
          "parcoords": [
           {
            "line": {
             "colorbar": {
              "outlinewidth": 0,
              "ticks": ""
             }
            },
            "type": "parcoords"
           }
          ],
          "pie": [
           {
            "automargin": true,
            "type": "pie"
           }
          ],
          "scatter": [
           {
            "marker": {
             "colorbar": {
              "outlinewidth": 0,
              "ticks": ""
             }
            },
            "type": "scatter"
           }
          ],
          "scatter3d": [
           {
            "line": {
             "colorbar": {
              "outlinewidth": 0,
              "ticks": ""
             }
            },
            "marker": {
             "colorbar": {
              "outlinewidth": 0,
              "ticks": ""
             }
            },
            "type": "scatter3d"
           }
          ],
          "scattercarpet": [
           {
            "marker": {
             "colorbar": {
              "outlinewidth": 0,
              "ticks": ""
             }
            },
            "type": "scattercarpet"
           }
          ],
          "scattergeo": [
           {
            "marker": {
             "colorbar": {
              "outlinewidth": 0,
              "ticks": ""
             }
            },
            "type": "scattergeo"
           }
          ],
          "scattergl": [
           {
            "marker": {
             "colorbar": {
              "outlinewidth": 0,
              "ticks": ""
             }
            },
            "type": "scattergl"
           }
          ],
          "scattermapbox": [
           {
            "marker": {
             "colorbar": {
              "outlinewidth": 0,
              "ticks": ""
             }
            },
            "type": "scattermapbox"
           }
          ],
          "scatterpolar": [
           {
            "marker": {
             "colorbar": {
              "outlinewidth": 0,
              "ticks": ""
             }
            },
            "type": "scatterpolar"
           }
          ],
          "scatterpolargl": [
           {
            "marker": {
             "colorbar": {
              "outlinewidth": 0,
              "ticks": ""
             }
            },
            "type": "scatterpolargl"
           }
          ],
          "scatterternary": [
           {
            "marker": {
             "colorbar": {
              "outlinewidth": 0,
              "ticks": ""
             }
            },
            "type": "scatterternary"
           }
          ],
          "surface": [
           {
            "colorbar": {
             "outlinewidth": 0,
             "ticks": ""
            },
            "colorscale": [
             [
              0,
              "#0d0887"
             ],
             [
              0.1111111111111111,
              "#46039f"
             ],
             [
              0.2222222222222222,
              "#7201a8"
             ],
             [
              0.3333333333333333,
              "#9c179e"
             ],
             [
              0.4444444444444444,
              "#bd3786"
             ],
             [
              0.5555555555555556,
              "#d8576b"
             ],
             [
              0.6666666666666666,
              "#ed7953"
             ],
             [
              0.7777777777777778,
              "#fb9f3a"
             ],
             [
              0.8888888888888888,
              "#fdca26"
             ],
             [
              1,
              "#f0f921"
             ]
            ],
            "type": "surface"
           }
          ],
          "table": [
           {
            "cells": {
             "fill": {
              "color": "#EBF0F8"
             },
             "line": {
              "color": "white"
             }
            },
            "header": {
             "fill": {
              "color": "#C8D4E3"
             },
             "line": {
              "color": "white"
             }
            },
            "type": "table"
           }
          ]
         },
         "layout": {
          "annotationdefaults": {
           "arrowcolor": "#2a3f5f",
           "arrowhead": 0,
           "arrowwidth": 1
          },
          "autotypenumbers": "strict",
          "coloraxis": {
           "colorbar": {
            "outlinewidth": 0,
            "ticks": ""
           }
          },
          "colorscale": {
           "diverging": [
            [
             0,
             "#8e0152"
            ],
            [
             0.1,
             "#c51b7d"
            ],
            [
             0.2,
             "#de77ae"
            ],
            [
             0.3,
             "#f1b6da"
            ],
            [
             0.4,
             "#fde0ef"
            ],
            [
             0.5,
             "#f7f7f7"
            ],
            [
             0.6,
             "#e6f5d0"
            ],
            [
             0.7,
             "#b8e186"
            ],
            [
             0.8,
             "#7fbc41"
            ],
            [
             0.9,
             "#4d9221"
            ],
            [
             1,
             "#276419"
            ]
           ],
           "sequential": [
            [
             0,
             "#0d0887"
            ],
            [
             0.1111111111111111,
             "#46039f"
            ],
            [
             0.2222222222222222,
             "#7201a8"
            ],
            [
             0.3333333333333333,
             "#9c179e"
            ],
            [
             0.4444444444444444,
             "#bd3786"
            ],
            [
             0.5555555555555556,
             "#d8576b"
            ],
            [
             0.6666666666666666,
             "#ed7953"
            ],
            [
             0.7777777777777778,
             "#fb9f3a"
            ],
            [
             0.8888888888888888,
             "#fdca26"
            ],
            [
             1,
             "#f0f921"
            ]
           ],
           "sequentialminus": [
            [
             0,
             "#0d0887"
            ],
            [
             0.1111111111111111,
             "#46039f"
            ],
            [
             0.2222222222222222,
             "#7201a8"
            ],
            [
             0.3333333333333333,
             "#9c179e"
            ],
            [
             0.4444444444444444,
             "#bd3786"
            ],
            [
             0.5555555555555556,
             "#d8576b"
            ],
            [
             0.6666666666666666,
             "#ed7953"
            ],
            [
             0.7777777777777778,
             "#fb9f3a"
            ],
            [
             0.8888888888888888,
             "#fdca26"
            ],
            [
             1,
             "#f0f921"
            ]
           ]
          },
          "colorway": [
           "#636efa",
           "#EF553B",
           "#00cc96",
           "#ab63fa",
           "#FFA15A",
           "#19d3f3",
           "#FF6692",
           "#B6E880",
           "#FF97FF",
           "#FECB52"
          ],
          "font": {
           "color": "#2a3f5f"
          },
          "geo": {
           "bgcolor": "white",
           "lakecolor": "white",
           "landcolor": "#E5ECF6",
           "showlakes": true,
           "showland": true,
           "subunitcolor": "white"
          },
          "hoverlabel": {
           "align": "left"
          },
          "hovermode": "closest",
          "mapbox": {
           "style": "light"
          },
          "paper_bgcolor": "white",
          "plot_bgcolor": "#E5ECF6",
          "polar": {
           "angularaxis": {
            "gridcolor": "white",
            "linecolor": "white",
            "ticks": ""
           },
           "bgcolor": "#E5ECF6",
           "radialaxis": {
            "gridcolor": "white",
            "linecolor": "white",
            "ticks": ""
           }
          },
          "scene": {
           "xaxis": {
            "backgroundcolor": "#E5ECF6",
            "gridcolor": "white",
            "gridwidth": 2,
            "linecolor": "white",
            "showbackground": true,
            "ticks": "",
            "zerolinecolor": "white"
           },
           "yaxis": {
            "backgroundcolor": "#E5ECF6",
            "gridcolor": "white",
            "gridwidth": 2,
            "linecolor": "white",
            "showbackground": true,
            "ticks": "",
            "zerolinecolor": "white"
           },
           "zaxis": {
            "backgroundcolor": "#E5ECF6",
            "gridcolor": "white",
            "gridwidth": 2,
            "linecolor": "white",
            "showbackground": true,
            "ticks": "",
            "zerolinecolor": "white"
           }
          },
          "shapedefaults": {
           "line": {
            "color": "#2a3f5f"
           }
          },
          "ternary": {
           "aaxis": {
            "gridcolor": "white",
            "linecolor": "white",
            "ticks": ""
           },
           "baxis": {
            "gridcolor": "white",
            "linecolor": "white",
            "ticks": ""
           },
           "bgcolor": "#E5ECF6",
           "caxis": {
            "gridcolor": "white",
            "linecolor": "white",
            "ticks": ""
           }
          },
          "title": {
           "x": 0.05
          },
          "xaxis": {
           "automargin": true,
           "gridcolor": "white",
           "linecolor": "white",
           "ticks": "",
           "title": {
            "standoff": 15
           },
           "zerolinecolor": "white",
           "zerolinewidth": 2
          },
          "yaxis": {
           "automargin": true,
           "gridcolor": "white",
           "linecolor": "white",
           "ticks": "",
           "title": {
            "standoff": 15
           },
           "zerolinecolor": "white",
           "zerolinewidth": 2
          }
         }
        },
        "title": {
         "text": "Anzahl der Wörter pro Woche in den Jahren 2017 - 2021"
        },
        "xaxis": {
         "anchor": "y",
         "domain": [
          0,
          1
         ],
         "title": {
          "text": "week"
         }
        },
        "yaxis": {
         "anchor": "x",
         "domain": [
          0,
          1
         ],
         "title": {
          "text": "value"
         }
        }
       }
      },
      "text/html": [
       "<div>                            <div id=\"211a15c5-5366-4577-8d1e-5366da9b4b74\" class=\"plotly-graph-div\" style=\"height:525px; width:100%;\"></div>            <script type=\"text/javascript\">                require([\"plotly\"], function(Plotly) {                    window.PLOTLYENV=window.PLOTLYENV || {};                                    if (document.getElementById(\"211a15c5-5366-4577-8d1e-5366da9b4b74\")) {                    Plotly.newPlot(                        \"211a15c5-5366-4577-8d1e-5366da9b4b74\",                        [{\"hovertemplate\": \"variable=W\\u00f6rter pro Woche<br>week=%{x}<br>value=%{y}<extra></extra>\", \"legendgroup\": \"W\\u00f6rter pro Woche\", \"line\": {\"color\": \"#636efa\", \"dash\": \"solid\"}, \"mode\": \"lines\", \"name\": \"W\\u00f6rter pro Woche\", \"orientation\": \"v\", \"showlegend\": true, \"type\": \"scatter\", \"x\": [\"2017/Week 43\", \"2017/Week 47\", \"2017/Week 50\", \"2018/Week 03\", \"2018/Week 04\", \"2018/Week 05\", \"2018/Week 08\", \"2018/Week 09\", \"2018/Week 11\", \"2018/Week 12\", \"2018/Week 16\", \"2018/Week 17\", \"2018/Week 20\", \"2018/Week 23\", \"2018/Week 24\", \"2018/Week 26\", \"2018/Week 27\", \"2018/Week 37\", \"2018/Week 39\", \"2018/Week 41\", \"2018/Week 42\", \"2018/Week 45\", \"2018/Week 47\", \"2018/Week 48\", \"2018/Week 50\", \"2019/Week 02\", \"2019/Week 04\", \"2019/Week 06\", \"2019/Week 07\", \"2019/Week 10\", \"2019/Week 11\", \"2019/Week 13\", \"2019/Week 14\", \"2019/Week 18\", \"2019/Week 19\", \"2019/Week 22\", \"2019/Week 25\", \"2019/Week 29\", \"2019/Week 36\", \"2019/Week 38\", \"2019/Week 41\", \"2019/Week 42\", \"2019/Week 44\", \"2019/Week 45\", \"2019/Week 47\", \"2019/Week 49\", \"2019/Week 50\", \"2020/Week 02\", \"2020/Week 04\", \"2020/Week 06\", \"2020/Week 09\", \"2020/Week 10\", \"2020/Week 12\", \"2020/Week 16\", \"2020/Week 18\", \"2020/Week 19\", \"2020/Week 21\", \"2020/Week 24\", \"2020/Week 26\", \"2020/Week 36\", \"2020/Week 37\", \"2020/Week 39\", \"2020/Week 40\", \"2020/Week 43\", \"2020/Week 44\", \"2020/Week 46\", \"2020/Week 47\", \"2020/Week 49\", \"2020/Week 50\", \"2021/Week 02\", \"2021/Week 04\", \"2021/Week 06\", \"2021/Week 08\", \"2021/Week 09\", \"2021/Week 12\", \"2021/Week 15\", \"2021/Week 16\", \"2021/Week 18\"], \"xaxis\": \"x\", \"y\": [6450, 83975, 94831, 86589, 11265, 101238, 118820, 100231, 91319, 182226, 138528, 131294, 192636, 170798, 137738, 159562, 186262, 197320, 157746, 159241, 149014, 168044, 189682, 168823, 129092, 127706, 138600, 131084, 128797, 147300, 145345, 142303, 142096, 148215, 161705, 150156, 174247, 7892, 188461, 170633, 178636, 160881, 177257, 167959, 183209, 145562, 145194, 165498, 127522, 135927, 164176, 120643, 38919, 98642, 109779, 188045, 159440, 188946, 201096, 183197, 209706, 208552, 164298, 171105, 164412, 178114, 157115, 196324, 123930, 115925, 174579, 157922, 141473, 184704, 209192, 163417, 232746, 179287], \"yaxis\": \"y\"}],                        {\"legend\": {\"title\": {\"text\": \"variable\"}, \"tracegroupgap\": 0}, \"template\": {\"data\": {\"bar\": [{\"error_x\": {\"color\": \"#2a3f5f\"}, \"error_y\": {\"color\": \"#2a3f5f\"}, \"marker\": {\"line\": {\"color\": \"#E5ECF6\", \"width\": 0.5}}, \"type\": \"bar\"}], \"barpolar\": [{\"marker\": {\"line\": {\"color\": \"#E5ECF6\", \"width\": 0.5}}, \"type\": \"barpolar\"}], \"carpet\": [{\"aaxis\": {\"endlinecolor\": \"#2a3f5f\", \"gridcolor\": \"white\", \"linecolor\": \"white\", \"minorgridcolor\": \"white\", \"startlinecolor\": \"#2a3f5f\"}, \"baxis\": {\"endlinecolor\": \"#2a3f5f\", \"gridcolor\": \"white\", \"linecolor\": \"white\", \"minorgridcolor\": \"white\", \"startlinecolor\": \"#2a3f5f\"}, \"type\": \"carpet\"}], \"choropleth\": [{\"colorbar\": {\"outlinewidth\": 0, \"ticks\": \"\"}, \"type\": \"choropleth\"}], \"contour\": [{\"colorbar\": {\"outlinewidth\": 0, \"ticks\": \"\"}, \"colorscale\": [[0.0, \"#0d0887\"], [0.1111111111111111, \"#46039f\"], [0.2222222222222222, \"#7201a8\"], [0.3333333333333333, \"#9c179e\"], [0.4444444444444444, \"#bd3786\"], [0.5555555555555556, \"#d8576b\"], [0.6666666666666666, \"#ed7953\"], [0.7777777777777778, \"#fb9f3a\"], [0.8888888888888888, \"#fdca26\"], [1.0, \"#f0f921\"]], \"type\": \"contour\"}], \"contourcarpet\": [{\"colorbar\": {\"outlinewidth\": 0, \"ticks\": \"\"}, \"type\": \"contourcarpet\"}], \"heatmap\": [{\"colorbar\": {\"outlinewidth\": 0, \"ticks\": \"\"}, \"colorscale\": [[0.0, \"#0d0887\"], [0.1111111111111111, \"#46039f\"], [0.2222222222222222, \"#7201a8\"], [0.3333333333333333, \"#9c179e\"], [0.4444444444444444, \"#bd3786\"], [0.5555555555555556, \"#d8576b\"], [0.6666666666666666, \"#ed7953\"], [0.7777777777777778, \"#fb9f3a\"], [0.8888888888888888, \"#fdca26\"], [1.0, \"#f0f921\"]], \"type\": \"heatmap\"}], \"heatmapgl\": [{\"colorbar\": {\"outlinewidth\": 0, \"ticks\": \"\"}, \"colorscale\": [[0.0, \"#0d0887\"], [0.1111111111111111, \"#46039f\"], [0.2222222222222222, \"#7201a8\"], [0.3333333333333333, \"#9c179e\"], [0.4444444444444444, \"#bd3786\"], [0.5555555555555556, \"#d8576b\"], [0.6666666666666666, \"#ed7953\"], [0.7777777777777778, \"#fb9f3a\"], [0.8888888888888888, \"#fdca26\"], [1.0, \"#f0f921\"]], \"type\": \"heatmapgl\"}], \"histogram\": [{\"marker\": {\"colorbar\": {\"outlinewidth\": 0, \"ticks\": \"\"}}, \"type\": \"histogram\"}], \"histogram2d\": [{\"colorbar\": {\"outlinewidth\": 0, \"ticks\": \"\"}, \"colorscale\": [[0.0, \"#0d0887\"], [0.1111111111111111, \"#46039f\"], [0.2222222222222222, \"#7201a8\"], [0.3333333333333333, \"#9c179e\"], [0.4444444444444444, \"#bd3786\"], [0.5555555555555556, \"#d8576b\"], [0.6666666666666666, \"#ed7953\"], [0.7777777777777778, \"#fb9f3a\"], [0.8888888888888888, \"#fdca26\"], [1.0, \"#f0f921\"]], \"type\": \"histogram2d\"}], \"histogram2dcontour\": [{\"colorbar\": {\"outlinewidth\": 0, \"ticks\": \"\"}, \"colorscale\": [[0.0, \"#0d0887\"], [0.1111111111111111, \"#46039f\"], [0.2222222222222222, \"#7201a8\"], [0.3333333333333333, \"#9c179e\"], [0.4444444444444444, \"#bd3786\"], [0.5555555555555556, \"#d8576b\"], [0.6666666666666666, \"#ed7953\"], [0.7777777777777778, \"#fb9f3a\"], [0.8888888888888888, \"#fdca26\"], [1.0, \"#f0f921\"]], \"type\": \"histogram2dcontour\"}], \"mesh3d\": [{\"colorbar\": {\"outlinewidth\": 0, \"ticks\": \"\"}, \"type\": \"mesh3d\"}], \"parcoords\": [{\"line\": {\"colorbar\": {\"outlinewidth\": 0, \"ticks\": \"\"}}, \"type\": \"parcoords\"}], \"pie\": [{\"automargin\": true, \"type\": \"pie\"}], \"scatter\": [{\"marker\": {\"colorbar\": {\"outlinewidth\": 0, \"ticks\": \"\"}}, \"type\": \"scatter\"}], \"scatter3d\": [{\"line\": {\"colorbar\": {\"outlinewidth\": 0, \"ticks\": \"\"}}, \"marker\": {\"colorbar\": {\"outlinewidth\": 0, \"ticks\": \"\"}}, \"type\": \"scatter3d\"}], \"scattercarpet\": [{\"marker\": {\"colorbar\": {\"outlinewidth\": 0, \"ticks\": \"\"}}, \"type\": \"scattercarpet\"}], \"scattergeo\": [{\"marker\": {\"colorbar\": {\"outlinewidth\": 0, \"ticks\": \"\"}}, \"type\": \"scattergeo\"}], \"scattergl\": [{\"marker\": {\"colorbar\": {\"outlinewidth\": 0, \"ticks\": \"\"}}, \"type\": \"scattergl\"}], \"scattermapbox\": [{\"marker\": {\"colorbar\": {\"outlinewidth\": 0, \"ticks\": \"\"}}, \"type\": \"scattermapbox\"}], \"scatterpolar\": [{\"marker\": {\"colorbar\": {\"outlinewidth\": 0, \"ticks\": \"\"}}, \"type\": \"scatterpolar\"}], \"scatterpolargl\": [{\"marker\": {\"colorbar\": {\"outlinewidth\": 0, \"ticks\": \"\"}}, \"type\": \"scatterpolargl\"}], \"scatterternary\": [{\"marker\": {\"colorbar\": {\"outlinewidth\": 0, \"ticks\": \"\"}}, \"type\": \"scatterternary\"}], \"surface\": [{\"colorbar\": {\"outlinewidth\": 0, \"ticks\": \"\"}, \"colorscale\": [[0.0, \"#0d0887\"], [0.1111111111111111, \"#46039f\"], [0.2222222222222222, \"#7201a8\"], [0.3333333333333333, \"#9c179e\"], [0.4444444444444444, \"#bd3786\"], [0.5555555555555556, \"#d8576b\"], [0.6666666666666666, \"#ed7953\"], [0.7777777777777778, \"#fb9f3a\"], [0.8888888888888888, \"#fdca26\"], [1.0, \"#f0f921\"]], \"type\": \"surface\"}], \"table\": [{\"cells\": {\"fill\": {\"color\": \"#EBF0F8\"}, \"line\": {\"color\": \"white\"}}, \"header\": {\"fill\": {\"color\": \"#C8D4E3\"}, \"line\": {\"color\": \"white\"}}, \"type\": \"table\"}]}, \"layout\": {\"annotationdefaults\": {\"arrowcolor\": \"#2a3f5f\", \"arrowhead\": 0, \"arrowwidth\": 1}, \"autotypenumbers\": \"strict\", \"coloraxis\": {\"colorbar\": {\"outlinewidth\": 0, \"ticks\": \"\"}}, \"colorscale\": {\"diverging\": [[0, \"#8e0152\"], [0.1, \"#c51b7d\"], [0.2, \"#de77ae\"], [0.3, \"#f1b6da\"], [0.4, \"#fde0ef\"], [0.5, \"#f7f7f7\"], [0.6, \"#e6f5d0\"], [0.7, \"#b8e186\"], [0.8, \"#7fbc41\"], [0.9, \"#4d9221\"], [1, \"#276419\"]], \"sequential\": [[0.0, \"#0d0887\"], [0.1111111111111111, \"#46039f\"], [0.2222222222222222, \"#7201a8\"], [0.3333333333333333, \"#9c179e\"], [0.4444444444444444, \"#bd3786\"], [0.5555555555555556, \"#d8576b\"], [0.6666666666666666, \"#ed7953\"], [0.7777777777777778, \"#fb9f3a\"], [0.8888888888888888, \"#fdca26\"], [1.0, \"#f0f921\"]], \"sequentialminus\": [[0.0, \"#0d0887\"], [0.1111111111111111, \"#46039f\"], [0.2222222222222222, \"#7201a8\"], [0.3333333333333333, \"#9c179e\"], [0.4444444444444444, \"#bd3786\"], [0.5555555555555556, \"#d8576b\"], [0.6666666666666666, \"#ed7953\"], [0.7777777777777778, \"#fb9f3a\"], [0.8888888888888888, \"#fdca26\"], [1.0, \"#f0f921\"]]}, \"colorway\": [\"#636efa\", \"#EF553B\", \"#00cc96\", \"#ab63fa\", \"#FFA15A\", \"#19d3f3\", \"#FF6692\", \"#B6E880\", \"#FF97FF\", \"#FECB52\"], \"font\": {\"color\": \"#2a3f5f\"}, \"geo\": {\"bgcolor\": \"white\", \"lakecolor\": \"white\", \"landcolor\": \"#E5ECF6\", \"showlakes\": true, \"showland\": true, \"subunitcolor\": \"white\"}, \"hoverlabel\": {\"align\": \"left\"}, \"hovermode\": \"closest\", \"mapbox\": {\"style\": \"light\"}, \"paper_bgcolor\": \"white\", \"plot_bgcolor\": \"#E5ECF6\", \"polar\": {\"angularaxis\": {\"gridcolor\": \"white\", \"linecolor\": \"white\", \"ticks\": \"\"}, \"bgcolor\": \"#E5ECF6\", \"radialaxis\": {\"gridcolor\": \"white\", \"linecolor\": \"white\", \"ticks\": \"\"}}, \"scene\": {\"xaxis\": {\"backgroundcolor\": \"#E5ECF6\", \"gridcolor\": \"white\", \"gridwidth\": 2, \"linecolor\": \"white\", \"showbackground\": true, \"ticks\": \"\", \"zerolinecolor\": \"white\"}, \"yaxis\": {\"backgroundcolor\": \"#E5ECF6\", \"gridcolor\": \"white\", \"gridwidth\": 2, \"linecolor\": \"white\", \"showbackground\": true, \"ticks\": \"\", \"zerolinecolor\": \"white\"}, \"zaxis\": {\"backgroundcolor\": \"#E5ECF6\", \"gridcolor\": \"white\", \"gridwidth\": 2, \"linecolor\": \"white\", \"showbackground\": true, \"ticks\": \"\", \"zerolinecolor\": \"white\"}}, \"shapedefaults\": {\"line\": {\"color\": \"#2a3f5f\"}}, \"ternary\": {\"aaxis\": {\"gridcolor\": \"white\", \"linecolor\": \"white\", \"ticks\": \"\"}, \"baxis\": {\"gridcolor\": \"white\", \"linecolor\": \"white\", \"ticks\": \"\"}, \"bgcolor\": \"#E5ECF6\", \"caxis\": {\"gridcolor\": \"white\", \"linecolor\": \"white\", \"ticks\": \"\"}}, \"title\": {\"x\": 0.05}, \"xaxis\": {\"automargin\": true, \"gridcolor\": \"white\", \"linecolor\": \"white\", \"ticks\": \"\", \"title\": {\"standoff\": 15}, \"zerolinecolor\": \"white\", \"zerolinewidth\": 2}, \"yaxis\": {\"automargin\": true, \"gridcolor\": \"white\", \"linecolor\": \"white\", \"ticks\": \"\", \"title\": {\"standoff\": 15}, \"zerolinecolor\": \"white\", \"zerolinewidth\": 2}}}, \"title\": {\"text\": \"Anzahl der W\\u00f6rter pro Woche in den Jahren 2017 - 2021\"}, \"xaxis\": {\"anchor\": \"y\", \"domain\": [0.0, 1.0], \"title\": {\"text\": \"week\"}}, \"yaxis\": {\"anchor\": \"x\", \"domain\": [0.0, 1.0], \"title\": {\"text\": \"value\"}}},                        {\"responsive\": true}                    ).then(function(){\n",
       "                            \n",
       "var gd = document.getElementById('211a15c5-5366-4577-8d1e-5366da9b4b74');\n",
       "var x = new MutationObserver(function (mutations, observer) {{\n",
       "        var display = window.getComputedStyle(gd).display;\n",
       "        if (!display || display === 'none') {{\n",
       "            console.log([gd, 'removed!']);\n",
       "            Plotly.purge(gd);\n",
       "            observer.disconnect();\n",
       "        }}\n",
       "}});\n",
       "\n",
       "// Listen for the removal of the full notebook cells\n",
       "var notebookContainer = gd.closest('#notebook-container');\n",
       "if (notebookContainer) {{\n",
       "    x.observe(notebookContainer, {childList: true});\n",
       "}}\n",
       "\n",
       "// Listen for the clearing of the current output cell\n",
       "var outputEl = gd.closest('.output');\n",
       "if (outputEl) {{\n",
       "    x.observe(outputEl, {childList: true});\n",
       "}}\n",
       "\n",
       "                        })                };                });            </script>        </div>"
      ]
     },
     "metadata": {},
     "output_type": "display_data"
    }
   ],
   "source": [
    "timeseries_words_df.plot(title=\"Anzahl der Wörter pro Woche in den Jahren 2017 - 2021\")"
   ]
  },
  {
   "cell_type": "markdown",
   "metadata": {},
   "source": [
    "Die Grafik der Wörter die pro Woche verwendet wurden, ist fast identisch zu der Grafik der Reden die pro Woche gehalten wurden. Nur der Gesamtansteig der aus der ersten Grafik hervorging ist hier nicht so deutlich zu erkennen. Das bedeutet: Vor den Coronajahren haben zwar weniger Abgeordnete Reden gehalten, dafür haben diese aber für ihre Reden mehr Wörter verwendet und somit vermutlich auch längere Reden gehalten."
   ]
  }
 ],
 "metadata": {
  "celltoolbar": "Create Assignment",
  "kernelspec": {
   "display_name": "Python 3",
   "language": "python",
   "name": "python3"
  },
  "language_info": {
   "codemirror_mode": {
    "name": "ipython",
    "version": 3
   },
   "file_extension": ".py",
   "mimetype": "text/x-python",
   "name": "python",
   "nbconvert_exporter": "python",
   "pygments_lexer": "ipython3",
   "version": "3.8.8"
  },
  "toc": {
   "base_numbering": 1,
   "nav_menu": {},
   "number_sections": true,
   "sideBar": true,
   "skip_h1_title": true,
   "title_cell": "Table of Contents",
   "title_sidebar": "Contents",
   "toc_cell": false,
   "toc_position": {
    "height": "417px",
    "left": "36px",
    "top": "151.8px",
    "width": "263.783px"
   },
   "toc_section_display": true,
   "toc_window_display": true
  },
  "varInspector": {
   "cols": {
    "lenName": 16,
    "lenType": 16,
    "lenVar": 40
   },
   "kernels_config": {
    "python": {
     "delete_cmd_postfix": "",
     "delete_cmd_prefix": "del ",
     "library": "var_list.py",
     "varRefreshCmd": "print(var_dic_list())"
    },
    "r": {
     "delete_cmd_postfix": ") ",
     "delete_cmd_prefix": "rm(",
     "library": "var_list.r",
     "varRefreshCmd": "cat(var_dic_list()) "
    }
   },
   "types_to_exclude": [
    "module",
    "function",
    "builtin_function_or_method",
    "instance",
    "_Feature"
   ],
   "window_display": false
  }
 },
 "nbformat": 4,
 "nbformat_minor": 2
}
